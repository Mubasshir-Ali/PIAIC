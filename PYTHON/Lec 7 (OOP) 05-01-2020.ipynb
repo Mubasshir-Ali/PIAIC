{
 "cells": [
  {
   "cell_type": "markdown",
   "metadata": {},
   "source": [
    "# Class"
   ]
  },
  {
   "cell_type": "code",
   "execution_count": null,
   "metadata": {},
   "outputs": [],
   "source": [
    "s1name = \"A\"\n",
    "s1fname = \"AF\"\n",
    "s1age = 20\n",
    "\n",
    "def s1login(): pass\n",
    "def s1logout(): pass\n",
    "def s1quiz(): pass\n",
    "\n",
    "\n",
    "s1name = \"B\"\n",
    "s1fname = \"BF\"\n",
    "s1age = 30\n",
    "\n",
    "def s1login(): pass\n",
    "def s1logout(): pass\n",
    "def s1quiz(): pass"
   ]
  },
  {
   "cell_type": "code",
   "execution_count": null,
   "metadata": {},
   "outputs": [],
   "source": [
    "class student():  # Class\n",
    "    pass\n",
    "\n",
    "s1 = student() #  Instance/object # Call Constructor"
   ]
  },
  {
   "cell_type": "markdown",
   "metadata": {},
   "source": [
    "# Method And Attributes"
   ]
  },
  {
   "cell_type": "code",
   "execution_count": 2,
   "metadata": {},
   "outputs": [
    {
     "name": "stdout",
     "output_type": "stream",
     "text": [
      "1\n",
      "2\n",
      "3\n"
     ]
    }
   ],
   "source": [
    "class student():\n",
    "    \n",
    "    def __init__(self, sid): #  Constructor\n",
    "        self.sid = sid #  Attributes/Properties/DataMembers/Fields\n",
    "        self.name = \"\"\n",
    "        self.fname = \"\"\n",
    "        self.DOB = 0\n",
    "        \n",
    "    def login(self, user, password):\n",
    "        self.name = user\n",
    "        print(\"Welcome\", self.name)\n",
    "        \n",
    "    def logout(self):\n",
    "        print(\"Logout!\")\n",
    "        \n",
    "s1 = student(1)\n",
    "s2 = student(2)\n",
    "s3 = student(3)\n",
    "        \n",
    "print(s1.sid, s2.sid, s3.sid, sep=\"\\n\")"
   ]
  },
  {
   "cell_type": "code",
   "execution_count": 4,
   "metadata": {},
   "outputs": [
    {
     "name": "stdout",
     "output_type": "stream",
     "text": [
      "A\n",
      "B\n",
      "C\n"
     ]
    }
   ],
   "source": [
    "s1.name = \"A\"\n",
    "s2.name = \"B\"\n",
    "s3.name = \"C\"\n",
    "\n",
    "print(s1.name, s2.name, s3.name, sep=\"\\n\")"
   ]
  },
  {
   "cell_type": "code",
   "execution_count": 5,
   "metadata": {},
   "outputs": [
    {
     "name": "stdout",
     "output_type": "stream",
     "text": [
      "Welcome RYZUQP\n"
     ]
    }
   ],
   "source": [
    "s3.login(\"RYZUQP\", \"123\")"
   ]
  },
  {
   "cell_type": "markdown",
   "metadata": {},
   "source": [
    "# Class Variable"
   ]
  },
  {
   "cell_type": "code",
   "execution_count": 11,
   "metadata": {},
   "outputs": [],
   "source": [
    "class student():\n",
    "    \n",
    "    counter = 0\n",
    "    \n",
    "    \n",
    "    def __init__(self, sid): #  Constructor\n",
    "        self.sid = sid #  Attributes/Properties/DataMembers/Fields\n",
    "        self.name = \"\"\n",
    "        self.fname = \"\"\n",
    "        self.DOB = 0\n",
    "        student.counter += 1  #  Update class Variable\n",
    "        \n",
    "    def login(self, user, password):\n",
    "        self.name = user\n",
    "        print(\"Welcome\", self.name)\n",
    "        \n",
    "    def logout(self):\n",
    "        print(\"Logout!\")"
   ]
  },
  {
   "cell_type": "code",
   "execution_count": 12,
   "metadata": {},
   "outputs": [
    {
     "data": {
      "text/plain": [
       "3"
      ]
     },
     "execution_count": 12,
     "metadata": {},
     "output_type": "execute_result"
    }
   ],
   "source": [
    "s1 = student(1)\n",
    "s2 = student(2)\n",
    "s3 = student(3)\n",
    "\n",
    "student.counter  #  Calling with class Reference"
   ]
  },
  {
   "cell_type": "code",
   "execution_count": 13,
   "metadata": {},
   "outputs": [
    {
     "data": {
      "text/plain": [
       "3"
      ]
     },
     "execution_count": 13,
     "metadata": {},
     "output_type": "execute_result"
    }
   ],
   "source": [
    "s1.counter"
   ]
  },
  {
   "cell_type": "markdown",
   "metadata": {},
   "source": [
    "# Inheritance"
   ]
  },
  {
   "cell_type": "code",
   "execution_count": 15,
   "metadata": {},
   "outputs": [],
   "source": [
    "class parent():\n",
    "    def __init__(self):\n",
    "        self.name = \"PN\"\n",
    "        self.id = 0\n",
    "        self.eye_color = \"B\"\n",
    "        \n",
    "    def speak (self):\n",
    "        print(\"Parent Speaking...\")\n",
    "        \n",
    "    def eat(self):\n",
    "        print(\"Eating Food...\")\n",
    "        \n",
    "class child(parent):\n",
    "    pass\n",
    "\n",
    "p1 = parent():\n",
    "    print(p1.eye_color)\n",
    "    \n",
    "c1 = child()\n"
   ]
  },
  {
   "cell_type": "code",
   "execution_count": 20,
   "metadata": {},
   "outputs": [],
   "source": [
    "class father():\n",
    "    def __init__(self):\n",
    "        self.eye_color = \"B\"\n",
    "        self.face_color = \"A\"\n",
    "        self.hair_color = \"c\"\n",
    "        \n",
    "    def speak (self):\n",
    "        print(\"Father Speaking...\")\n",
    "        \n",
    "    def eat(self):\n",
    "        print(\"Father Eating Food...\")\n",
    "        \n",
    "        \n",
    "class mother():\n",
    "    def __init__(self):\n",
    "        self.height = \"0000\"\n",
    "        self.weight = \"0000\"\n",
    "        self.hair_color = \"SS\"\n",
    "        \n",
    "    def listning (self):\n",
    "        print(\"Mother Listning...\")\n",
    "        \n",
    "    def eat(self):\n",
    "        print(\"Mother Eating Food...\")\n",
    "        \n",
    "class child(father, mother):\n",
    "    pass\n",
    "\n",
    "c1 = child()"
   ]
  },
  {
   "cell_type": "code",
   "execution_count": 21,
   "metadata": {},
   "outputs": [
    {
     "name": "stdout",
     "output_type": "stream",
     "text": [
      "Father Eating Food...\n"
     ]
    }
   ],
   "source": [
    "c1.eat()"
   ]
  },
  {
   "cell_type": "code",
   "execution_count": 24,
   "metadata": {},
   "outputs": [],
   "source": [
    "class employe():\n",
    "    def __init__(self, id, name, salary):\n",
    "        self.name = name\n",
    "        self.id = id\n",
    "        self.salary = salary\n",
    "        \n",
    "class developer(employe):\n",
    "    def __init__(self, id, name, salary, designation):\n",
    "        super().__init__(id, name, salary)\n",
    "        self.designation = designation\n",
    "        \n",
    "d1 = developer(1, \"a\", 2000, \"b\")"
   ]
  },
  {
   "cell_type": "markdown",
   "metadata": {},
   "source": [
    "# Polymorphism"
   ]
  },
  {
   "cell_type": "markdown",
   "metadata": {},
   "source": [
    "# Overloading"
   ]
  },
  {
   "cell_type": "code",
   "execution_count": 26,
   "metadata": {},
   "outputs": [
    {
     "name": "stdout",
     "output_type": "stream",
     "text": [
      "13\n",
      "14\n",
      "18.55\n"
     ]
    }
   ],
   "source": [
    "class A():\n",
    "    def abc(self, *n):\n",
    "        print(sum(n))\n",
    "        \n",
    "obj1= A()\n",
    "obj1.abc(1,3,3,6)\n",
    "obj1.abc(1,5,8)\n",
    "obj1.abc(5,4,9.55)"
   ]
  },
  {
   "cell_type": "markdown",
   "metadata": {},
   "source": [
    "# Over Riding"
   ]
  },
  {
   "cell_type": "code",
   "execution_count": 28,
   "metadata": {},
   "outputs": [
    {
     "name": "stdout",
     "output_type": "stream",
     "text": [
      "Ba2\n"
     ]
    }
   ],
   "source": [
    "class A():\n",
    "    def a1(self):\n",
    "        print(\"Aa1\")\n",
    "    def a2(self):\n",
    "        print(\"Aa2\")\n",
    "        \n",
    "class B(A):\n",
    "    def a2(self):\n",
    "        print(\"Ba2\")\n",
    "        \n",
    "obj1 = B()\n",
    "obj1.a2()"
   ]
  },
  {
   "cell_type": "code",
   "execution_count": null,
   "metadata": {},
   "outputs": [],
   "source": []
  }
 ],
 "metadata": {
  "kernelspec": {
   "display_name": "Python 3",
   "language": "python",
   "name": "python3"
  },
  "language_info": {
   "codemirror_mode": {
    "name": "ipython",
    "version": 3
   },
   "file_extension": ".py",
   "mimetype": "text/x-python",
   "name": "python",
   "nbconvert_exporter": "python",
   "pygments_lexer": "ipython3",
   "version": "3.7.4"
  }
 },
 "nbformat": 4,
 "nbformat_minor": 2
}
