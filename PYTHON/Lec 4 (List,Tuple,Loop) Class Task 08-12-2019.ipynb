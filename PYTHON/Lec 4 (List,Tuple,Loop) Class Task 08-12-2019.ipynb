{
 "cells": [
  {
   "cell_type": "code",
   "execution_count": 1,
   "metadata": {},
   "outputs": [
    {
     "data": {
      "text/plain": [
       "['R', 'Y', 'Z', 'U', 'Q', 'P']"
      ]
     },
     "execution_count": 1,
     "metadata": {},
     "output_type": "execute_result"
    }
   ],
   "source": [
    "names = []  # empty list\n",
    "names.append(\"R\")\n",
    "names.append(\"Y\")\n",
    "names.append(\"Z\")\n",
    "names.append(\"U\")\n",
    "names.append(\"Q\")\n",
    "names.append(\"P\")\n",
    "names"
   ]
  },
  {
   "cell_type": "code",
   "execution_count": 2,
   "metadata": {},
   "outputs": [
    {
     "name": "stdout",
     "output_type": "stream",
     "text": [
      "['R', 'Y', 'Z', 'U', 'Q', 'P']\n",
      "[]\n"
     ]
    }
   ],
   "source": [
    "names = ['R', 'Y', 'Z', 'U', 'Q', 'P']\n",
    "print(names)\n",
    "names.clear()\n",
    "print(names)"
   ]
  },
  {
   "cell_type": "code",
   "execution_count": 3,
   "metadata": {},
   "outputs": [
    {
     "name": "stdout",
     "output_type": "stream",
     "text": [
      "names ['R', 'Y', 'Z', 'U', 'Q', 'P']\n",
      "names ['R', 'Y', 'Z', 'U', 'Q', 'P']\n",
      "names ['PAKISTAN', 'Y', 'Z', 'U', 'Q', 'P']\n",
      "names ['R', 'Y', 'Z', 'U', 'Q', 'P']\n"
     ]
    }
   ],
   "source": [
    "names = ['R', 'Y', 'Z', 'U', 'Q', 'P']\n",
    "names1=names.copy()  # Shallow copy\n",
    "\n",
    "print(\"names\",names)\n",
    "print(\"names\",names1)\n",
    "\n",
    "names[0] = \"PAKISTAN\"\n",
    "\n",
    "print(\"names\",names)\n",
    "print(\"names\",names1)"
   ]
  },
  {
   "cell_type": "code",
   "execution_count": null,
   "metadata": {},
   "outputs": [],
   "source": []
  }
 ],
 "metadata": {
  "kernelspec": {
   "display_name": "Python 3",
   "language": "python",
   "name": "python3"
  },
  "language_info": {
   "codemirror_mode": {
    "name": "ipython",
    "version": 3
   },
   "file_extension": ".py",
   "mimetype": "text/x-python",
   "name": "python",
   "nbconvert_exporter": "python",
   "pygments_lexer": "ipython3",
   "version": "3.7.4"
  }
 },
 "nbformat": 4,
 "nbformat_minor": 2
}
