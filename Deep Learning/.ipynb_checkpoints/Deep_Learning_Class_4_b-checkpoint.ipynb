{
 "cells": [
  {
   "cell_type": "markdown",
   "metadata": {},
   "source": [
    "# Data representations for neural networks\n",
    "- nd-Array = tensor\n",
    "- count number of opening brackets [[[==number dimension, rank,axis"
   ]
  },
  {
   "cell_type": "markdown",
   "metadata": {},
   "source": [
    "# 2.2.1 Scalars (0D tensors)"
   ]
  },
  {
   "cell_type": "code",
   "execution_count": 1,
   "metadata": {},
   "outputs": [
    {
     "data": {
      "text/plain": [
       "0"
      ]
     },
     "execution_count": 1,
     "metadata": {},
     "output_type": "execute_result"
    }
   ],
   "source": [
    "import numpy as np\n",
    "\n",
    "a = np.array(12)\n",
    "a\n",
    "a.ndim"
   ]
  },
  {
   "cell_type": "markdown",
   "metadata": {},
   "source": [
    "# 2.2.2 Vectors (1D tensors)"
   ]
  },
  {
   "cell_type": "code",
   "execution_count": 2,
   "metadata": {},
   "outputs": [
    {
     "name": "stdout",
     "output_type": "stream",
     "text": [
      "[1 3 4 9]\n",
      "Dimension 1\n",
      "Shape (4,)\n"
     ]
    }
   ],
   "source": [
    "a = np.array([1,3,4,9])\n",
    "\n",
    "print(a)\n",
    "print(\"Dimension\", a.ndim)\n",
    "print(\"Shape\", a.shape)\n",
    "\n",
    "# 1D Tensor, 1 Rank Tensor, Vector, 1Axes Tensor"
   ]
  },
  {
   "cell_type": "markdown",
   "metadata": {},
   "source": [
    "# 2.2.3 Matrices (2D tensors)"
   ]
  },
  {
   "cell_type": "code",
   "execution_count": 3,
   "metadata": {},
   "outputs": [
    {
     "name": "stdout",
     "output_type": "stream",
     "text": [
      "[[ 5 78  2 34  0]\n",
      " [ 6 79  3 35  1]\n",
      " [ 7 80  4 36  2]]\n",
      "Dimension 2\n",
      "Shape (3, 5)\n"
     ]
    }
   ],
   "source": [
    "a = np.array([[5, 78, 2, 34, 0],\n",
    "[6, 79, 3, 35, 1],\n",
    "[7, 80, 4, 36, 2]])\n",
    "\n",
    "print(a)\n",
    "print(\"Dimension\", a.ndim)\n",
    "print(\"Shape\", a.shape)"
   ]
  },
  {
   "cell_type": "markdown",
   "metadata": {},
   "source": [
    "# 2.2.4 3D tensors and higher-dimensional tensors"
   ]
  },
  {
   "cell_type": "code",
   "execution_count": 4,
   "metadata": {},
   "outputs": [
    {
     "name": "stdout",
     "output_type": "stream",
     "text": [
      "[[[ 5 78  2 34  0]\n",
      "  [ 6 79  3 35  1]\n",
      "  [ 7 80  4 36  2]]\n",
      "\n",
      " [[ 5 78  2 34  0]\n",
      "  [ 6 79  3 35  1]\n",
      "  [ 7 80  4 36  2]]\n",
      "\n",
      " [[ 5 78  2 34  0]\n",
      "  [ 6 79  3 35  1]\n",
      "  [ 7 80  4 36  2]]]\n",
      "Dimension 3\n",
      "Shape (3, 3, 5)\n"
     ]
    }
   ],
   "source": [
    "a = np.array([[[5, 78, 2, 34, 0],\n",
    "[6, 79, 3, 35, 1],\n",
    "[7, 80, 4, 36, 2]],\n",
    "[[5, 78, 2, 34, 0],\n",
    "[6, 79, 3, 35, 1],\n",
    "[7, 80, 4, 36, 2]],\n",
    "[[5, 78, 2, 34, 0],\n",
    "[6, 79, 3, 35, 1],\n",
    "[7, 80, 4, 36, 2]]])\n",
    "\n",
    "print(a)\n",
    "print(\"Dimension\", a.ndim)\n",
    "print(\"Shape\", a.shape)"
   ]
  },
  {
   "cell_type": "code",
   "execution_count": 5,
   "metadata": {},
   "outputs": [
    {
     "name": "stdout",
     "output_type": "stream",
     "text": [
      "[[[[[1. 1.]\n",
      "    [1. 1.]]\n",
      "\n",
      "   [[1. 1.]\n",
      "    [1. 1.]]]\n",
      "\n",
      "\n",
      "  [[[1. 1.]\n",
      "    [1. 1.]]\n",
      "\n",
      "   [[1. 1.]\n",
      "    [1. 1.]]]]\n",
      "\n",
      "\n",
      "\n",
      " [[[[1. 1.]\n",
      "    [1. 1.]]\n",
      "\n",
      "   [[1. 1.]\n",
      "    [1. 1.]]]\n",
      "\n",
      "\n",
      "  [[[1. 1.]\n",
      "    [1. 1.]]\n",
      "\n",
      "   [[1. 1.]\n",
      "    [1. 1.]]]]]\n",
      "Dimension 5\n",
      "Shape (2, 2, 2, 2, 2)\n"
     ]
    }
   ],
   "source": [
    "a = np.ones((2,2,2,2,2))\n",
    "\n",
    "print(a)\n",
    "print(\"Dimension\", a.ndim)\n",
    "print(\"Shape\", a.shape)"
   ]
  },
  {
   "cell_type": "markdown",
   "metadata": {},
   "source": [
    "# 2.2.5 Key attributes\n",
    "- Number Of Axis\n",
    "- Shape\n",
    "- Data Type(Usually called dtype in Python Libraries)"
   ]
  },
  {
   "cell_type": "code",
   "execution_count": null,
   "metadata": {},
   "outputs": [],
   "source": []
  }
 ],
 "metadata": {
  "kernelspec": {
   "display_name": "Python 3",
   "language": "python",
   "name": "python3"
  },
  "language_info": {
   "codemirror_mode": {
    "name": "ipython",
    "version": 3
   },
   "file_extension": ".py",
   "mimetype": "text/x-python",
   "name": "python",
   "nbconvert_exporter": "python",
   "pygments_lexer": "ipython3",
   "version": "3.7.7"
  }
 },
 "nbformat": 4,
 "nbformat_minor": 4
}
