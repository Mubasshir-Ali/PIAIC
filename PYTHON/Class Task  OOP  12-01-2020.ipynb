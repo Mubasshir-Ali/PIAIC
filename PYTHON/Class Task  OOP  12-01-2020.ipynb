{
 "cells": [
  {
   "cell_type": "markdown",
   "metadata": {},
   "source": [
    "# Inheritance"
   ]
  },
  {
   "cell_type": "code",
   "execution_count": 4,
   "metadata": {},
   "outputs": [],
   "source": [
    "class A():\n",
    "    def __init__(self):\n",
    "        self.namer = \"A\"\n",
    "        self.age = 5\n",
    "        \n",
    "    def speak (self):\n",
    "        print(\"Child Speaking...\")\n",
    "        \n",
    "    def eat(self):\n",
    "        print(\"Child Eat Food...\")\n",
    "        \n",
    "        \n",
    "class B():\n",
    "    def __init__(self):\n",
    "        self.course = \"AI\"\n",
    "        self.time = \"12:15\"\n",
    "        \n",
    "    def listning (self):\n",
    "        print(\"Child Listning...\")\n",
    "        \n",
    "    def eat(self):\n",
    "        print(\"Child Eating Food...\")\n",
    "        \n",
    "class child(A, B):\n",
    "    pass\n",
    "\n",
    "c1 = child()"
   ]
  },
  {
   "cell_type": "code",
   "execution_count": 5,
   "metadata": {},
   "outputs": [
    {
     "name": "stdout",
     "output_type": "stream",
     "text": [
      "Child Eat Food...\n"
     ]
    }
   ],
   "source": [
    "c1.eat()"
   ]
  },
  {
   "cell_type": "markdown",
   "metadata": {},
   "source": [
    "# Polymorphism"
   ]
  },
  {
   "cell_type": "markdown",
   "metadata": {},
   "source": [
    "# Overloading"
   ]
  },
  {
   "cell_type": "code",
   "execution_count": 9,
   "metadata": {},
   "outputs": [
    {
     "name": "stdout",
     "output_type": "stream",
     "text": [
      "13\n",
      "14\n",
      "18.55\n"
     ]
    }
   ],
   "source": [
    "class XYZ():\n",
    "    def abc(self, *n):\n",
    "        print(sum(n))\n",
    "        \n",
    "obj1= XYZ()\n",
    "obj1.abc(1,3,3,6)\n",
    "obj1.abc(1,5,8)\n",
    "obj1.abc(5,4,9.55)"
   ]
  },
  {
   "cell_type": "markdown",
   "metadata": {},
   "source": [
    "# Over Riding"
   ]
  },
  {
   "cell_type": "code",
   "execution_count": 11,
   "metadata": {},
   "outputs": [
    {
     "name": "stdout",
     "output_type": "stream",
     "text": [
      "Print A3\n"
     ]
    }
   ],
   "source": [
    "class XYZ():\n",
    "    def a1(self):\n",
    "        print(\"Print A1\")\n",
    "    def a2(self):\n",
    "        print(\"Print A2\")\n",
    "        \n",
    "class ABC(A):\n",
    "    def a2(self):\n",
    "        print(\"Print A3\")\n",
    "        \n",
    "obj1 = ABC()\n",
    "obj1.a2()"
   ]
  },
  {
   "cell_type": "markdown",
   "metadata": {},
   "source": [
    "# Encapsulation"
   ]
  },
  {
   "cell_type": "code",
   "execution_count": 13,
   "metadata": {},
   "outputs": [
    {
     "name": "stdout",
     "output_type": "stream",
     "text": [
      "Name RYZUQP\n",
      "Age 5\n",
      "Child Play\n"
     ]
    }
   ],
   "source": [
    "class Child():\n",
    "    def __init__(self, name, age):\n",
    "        self.__sname = name\n",
    "        self.__age = age\n",
    "        \n",
    "    def display(self):\n",
    "        print(\"Name\", self.__sname)\n",
    "        print(\"Age\", self.__age)\n",
    "        self.__abc()\n",
    "        \n",
    "    def change(self, a, b):\n",
    "        self.__sname = a\n",
    "        self.__age = b\n",
    "        \n",
    "    def __abc(self):\n",
    "        print(\"Child Play\")\n",
    "        \n",
    "s1 = Child(\"RYZUQP\", 5)\n",
    "s1.display()\n"
   ]
  },
  {
   "cell_type": "markdown",
   "metadata": {},
   "source": [
    "# Abstract Class"
   ]
  },
  {
   "cell_type": "code",
   "execution_count": 14,
   "metadata": {},
   "outputs": [],
   "source": [
    "class Child:\n",
    "    def __init__(self, name, age):\n",
    "        self.sname = name\n",
    "        self.age = age\n",
    "        \n",
    "    def dis(self): print(\"Child Sleep\")\n",
    "        \n",
    "class Brother(Child):\n",
    "    pass\n",
    "\n",
    "obj1 = Child(\"Child\", 1)\n",
    "obj2 = Brother(\"Brother\", 2)"
   ]
  },
  {
   "cell_type": "code",
   "execution_count": 15,
   "metadata": {},
   "outputs": [
    {
     "name": "stdout",
     "output_type": "stream",
     "text": [
      "Brother Child\n"
     ]
    }
   ],
   "source": [
    "print(obj2.sname, obj1.sname)"
   ]
  },
  {
   "cell_type": "code",
   "execution_count": null,
   "metadata": {},
   "outputs": [],
   "source": []
  }
 ],
 "metadata": {
  "kernelspec": {
   "display_name": "Python 3",
   "language": "python",
   "name": "python3"
  },
  "language_info": {
   "codemirror_mode": {
    "name": "ipython",
    "version": 3
   },
   "file_extension": ".py",
   "mimetype": "text/x-python",
   "name": "python",
   "nbconvert_exporter": "python",
   "pygments_lexer": "ipython3",
   "version": "3.7.4"
  }
 },
 "nbformat": 4,
 "nbformat_minor": 2
}
