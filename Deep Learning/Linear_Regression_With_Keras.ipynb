{
 "cells": [
  {
   "cell_type": "markdown",
   "metadata": {},
   "source": [
    "# Linear Regression With Keras"
   ]
  },
  {
   "cell_type": "code",
   "execution_count": 1,
   "metadata": {},
   "outputs": [],
   "source": [
    "from tensorflow.keras.models import Sequential\n",
    "from tensorflow.keras.optimizers import Adam, SGD\n",
    "from tensorflow.keras.layers import Dense\n",
    "\n",
    "%matplotlib inline\n",
    "import matplotlib.pyplot as plt\n",
    "import numpy as np\n",
    "import pandas as pd"
   ]
  },
  {
   "cell_type": "code",
   "execution_count": 2,
   "metadata": {},
   "outputs": [],
   "source": [
    "# This code will be used on oogle colab\n",
    "#from google.colab import files\n",
    "#uploaded = files.upload()\n",
    "#Saving weight-height.csv to weight-height.csv"
   ]
  },
  {
   "cell_type": "code",
   "execution_count": 3,
   "metadata": {},
   "outputs": [
    {
     "data": {
      "text/html": [
       "<div>\n",
       "<style scoped>\n",
       "    .dataframe tbody tr th:only-of-type {\n",
       "        vertical-align: middle;\n",
       "    }\n",
       "\n",
       "    .dataframe tbody tr th {\n",
       "        vertical-align: top;\n",
       "    }\n",
       "\n",
       "    .dataframe thead th {\n",
       "        text-align: right;\n",
       "    }\n",
       "</style>\n",
       "<table border=\"1\" class=\"dataframe\">\n",
       "  <thead>\n",
       "    <tr style=\"text-align: right;\">\n",
       "      <th></th>\n",
       "      <th>Gender</th>\n",
       "      <th>Height</th>\n",
       "      <th>Weight</th>\n",
       "    </tr>\n",
       "  </thead>\n",
       "  <tbody>\n",
       "    <tr>\n",
       "      <th>0</th>\n",
       "      <td>Male</td>\n",
       "      <td>73.847017</td>\n",
       "      <td>241.893563</td>\n",
       "    </tr>\n",
       "    <tr>\n",
       "      <th>1</th>\n",
       "      <td>Male</td>\n",
       "      <td>68.781904</td>\n",
       "      <td>162.310473</td>\n",
       "    </tr>\n",
       "    <tr>\n",
       "      <th>2</th>\n",
       "      <td>Male</td>\n",
       "      <td>74.110105</td>\n",
       "      <td>212.740856</td>\n",
       "    </tr>\n",
       "    <tr>\n",
       "      <th>3</th>\n",
       "      <td>Male</td>\n",
       "      <td>71.730978</td>\n",
       "      <td>220.042470</td>\n",
       "    </tr>\n",
       "    <tr>\n",
       "      <th>4</th>\n",
       "      <td>Male</td>\n",
       "      <td>69.881796</td>\n",
       "      <td>206.349801</td>\n",
       "    </tr>\n",
       "  </tbody>\n",
       "</table>\n",
       "</div>"
      ],
      "text/plain": [
       "  Gender     Height      Weight\n",
       "0   Male  73.847017  241.893563\n",
       "1   Male  68.781904  162.310473\n",
       "2   Male  74.110105  212.740856\n",
       "3   Male  71.730978  220.042470\n",
       "4   Male  69.881796  206.349801"
      ]
     },
     "execution_count": 3,
     "metadata": {},
     "output_type": "execute_result"
    }
   ],
   "source": [
    "df = pd.read_csv('data/weight-height.csv')\n",
    "\n",
    "df.head()"
   ]
  },
  {
   "cell_type": "code",
   "execution_count": 4,
   "metadata": {},
   "outputs": [],
   "source": [
    "# This code will be used on oogle colab\n",
    "#import io\n",
    "#import pandas as pd\n",
    "#df = pd.read_csv(io.BytesIO(uploaded[\"weight-height.csv\"]))\n",
    "\n",
    "#df.head()"
   ]
  },
  {
   "cell_type": "code",
   "execution_count": 5,
   "metadata": {},
   "outputs": [],
   "source": [
    "x = df[['Height']].values\n",
    "y_true = df[['Weight']].values"
   ]
  },
  {
   "cell_type": "code",
   "execution_count": 6,
   "metadata": {},
   "outputs": [
    {
     "data": {
      "text/plain": [
       "array([[73.84701702],\n",
       "       [68.78190405],\n",
       "       [74.11010539],\n",
       "       ...,\n",
       "       [63.86799221],\n",
       "       [69.03424313],\n",
       "       [61.94424588]])"
      ]
     },
     "execution_count": 6,
     "metadata": {},
     "output_type": "execute_result"
    }
   ],
   "source": [
    "x"
   ]
  },
  {
   "cell_type": "code",
   "execution_count": 7,
   "metadata": {},
   "outputs": [
    {
     "data": {
      "text/plain": [
       "(10000, 1)"
      ]
     },
     "execution_count": 7,
     "metadata": {},
     "output_type": "execute_result"
    }
   ],
   "source": [
    "x.shape"
   ]
  },
  {
   "cell_type": "code",
   "execution_count": 8,
   "metadata": {},
   "outputs": [],
   "source": [
    "model = Sequential()\n",
    "model.add(Dense(1, input_shape = (1,)))"
   ]
  },
  {
   "cell_type": "code",
   "execution_count": 9,
   "metadata": {},
   "outputs": [
    {
     "name": "stdout",
     "output_type": "stream",
     "text": [
      "Model: \"sequential\"\n",
      "_________________________________________________________________\n",
      "Layer (type)                 Output Shape              Param #   \n",
      "=================================================================\n",
      "dense (Dense)                (None, 1)                 2         \n",
      "=================================================================\n",
      "Total params: 2\n",
      "Trainable params: 2\n",
      "Non-trainable params: 0\n",
      "_________________________________________________________________\n"
     ]
    }
   ],
   "source": [
    "model.summary()"
   ]
  },
  {
   "cell_type": "code",
   "execution_count": 10,
   "metadata": {},
   "outputs": [],
   "source": [
    "model.compile(Adam(lr = 0.8), 'mean_squared_error')"
   ]
  },
  {
   "cell_type": "code",
   "execution_count": 11,
   "metadata": {},
   "outputs": [
    {
     "name": "stdout",
     "output_type": "stream",
     "text": [
      "Train on 10000 samples\n",
      "Epoch 1/40\n",
      "10000/10000 [==============================] - 0s 43us/sample - loss: 691.1031\n",
      "Epoch 2/40\n",
      "10000/10000 [==============================] - 0s 28us/sample - loss: 558.3405\n",
      "Epoch 3/40\n",
      "10000/10000 [==============================] - 0s 29us/sample - loss: 488.4627\n",
      "Epoch 4/40\n",
      "10000/10000 [==============================] - 0s 26us/sample - loss: 446.9926\n",
      "Epoch 5/40\n",
      "10000/10000 [==============================] - 0s 28us/sample - loss: 400.5967\n",
      "Epoch 6/40\n",
      "10000/10000 [==============================] - 0s 28us/sample - loss: 356.0339\n",
      "Epoch 7/40\n",
      "10000/10000 [==============================] - 0s 32us/sample - loss: 321.2893\n",
      "Epoch 8/40\n",
      "10000/10000 [==============================] - 0s 24us/sample - loss: 286.2271\n",
      "Epoch 9/40\n",
      "10000/10000 [==============================] - 0s 26us/sample - loss: 282.5095\n",
      "Epoch 10/40\n",
      "10000/10000 [==============================] - 0s 34us/sample - loss: 246.4076\n",
      "Epoch 11/40\n",
      "10000/10000 [==============================] - 0s 40us/sample - loss: 223.5495\n",
      "Epoch 12/40\n",
      "10000/10000 [==============================] - 0s 35us/sample - loss: 228.0733\n",
      "Epoch 13/40\n",
      "10000/10000 [==============================] - 0s 27us/sample - loss: 207.8436\n",
      "Epoch 14/40\n",
      "10000/10000 [==============================] - 0s 26us/sample - loss: 211.3344\n",
      "Epoch 15/40\n",
      "10000/10000 [==============================] - 0s 26us/sample - loss: 198.7741\n",
      "Epoch 16/40\n",
      "10000/10000 [==============================] - 0s 28us/sample - loss: 196.9874\n",
      "Epoch 17/40\n",
      "10000/10000 [==============================] - 0s 40us/sample - loss: 191.9574\n",
      "Epoch 18/40\n",
      "10000/10000 [==============================] - 0s 36us/sample - loss: 182.2213\n",
      "Epoch 19/40\n",
      "10000/10000 [==============================] - 0s 38us/sample - loss: 179.9605\n",
      "Epoch 20/40\n",
      "10000/10000 [==============================] - 0s 37us/sample - loss: 168.9789\n",
      "Epoch 21/40\n",
      "10000/10000 [==============================] - 0s 32us/sample - loss: 182.2047\n",
      "Epoch 22/40\n",
      "10000/10000 [==============================] - 0s 25us/sample - loss: 183.7167\n",
      "Epoch 23/40\n",
      "10000/10000 [==============================] - 0s 26us/sample - loss: 181.4558\n",
      "Epoch 24/40\n",
      "10000/10000 [==============================] - 0s 26us/sample - loss: 179.8046\n",
      "Epoch 25/40\n",
      "10000/10000 [==============================] - 0s 26us/sample - loss: 177.0486\n",
      "Epoch 26/40\n",
      "10000/10000 [==============================] - 0s 26us/sample - loss: 186.7557\n",
      "Epoch 27/40\n",
      "10000/10000 [==============================] - 0s 31us/sample - loss: 179.3450\n",
      "Epoch 28/40\n",
      "10000/10000 [==============================] - 0s 47us/sample - loss: 171.4619\n",
      "Epoch 29/40\n",
      "10000/10000 [==============================] - 0s 45us/sample - loss: 182.4670\n",
      "Epoch 30/40\n",
      "10000/10000 [==============================] - 0s 34us/sample - loss: 189.4544\n",
      "Epoch 31/40\n",
      "10000/10000 [==============================] - 0s 34us/sample - loss: 176.7455\n",
      "Epoch 32/40\n",
      "10000/10000 [==============================] - 0s 27us/sample - loss: 189.8471\n",
      "Epoch 33/40\n",
      "10000/10000 [==============================] - 0s 25us/sample - loss: 165.8109\n",
      "Epoch 34/40\n",
      "10000/10000 [==============================] - 0s 29us/sample - loss: 180.1437\n",
      "Epoch 35/40\n",
      "10000/10000 [==============================] - 0s 41us/sample - loss: 168.1521\n",
      "Epoch 36/40\n",
      "10000/10000 [==============================] - 0s 38us/sample - loss: 186.7791\n",
      "Epoch 37/40\n",
      "10000/10000 [==============================] - 0s 36us/sample - loss: 184.1785\n",
      "Epoch 38/40\n",
      "10000/10000 [==============================] - 0s 36us/sample - loss: 178.1316\n",
      "Epoch 39/40\n",
      "10000/10000 [==============================] - 0s 37us/sample - loss: 186.5482\n",
      "Epoch 40/40\n",
      "10000/10000 [==============================] - 0s 29us/sample - loss: 177.6889\n"
     ]
    },
    {
     "data": {
      "text/plain": [
       "<tensorflow.python.keras.callbacks.History at 0x1a760fd6e88>"
      ]
     },
     "execution_count": 11,
     "metadata": {},
     "output_type": "execute_result"
    }
   ],
   "source": [
    "model.fit(x,y_true, epochs = 40)"
   ]
  },
  {
   "cell_type": "code",
   "execution_count": 12,
   "metadata": {},
   "outputs": [],
   "source": [
    "y_pred = model.predict(x)"
   ]
  },
  {
   "cell_type": "code",
   "execution_count": 13,
   "metadata": {},
   "outputs": [
    {
     "data": {
      "text/plain": [
       "array([[231.61606],\n",
       "       [191.81284],\n",
       "       [233.6835 ],\n",
       "       ...,\n",
       "       [153.19772],\n",
       "       [193.79575],\n",
       "       [138.08029]], dtype=float32)"
      ]
     },
     "execution_count": 13,
     "metadata": {},
     "output_type": "execute_result"
    }
   ],
   "source": [
    "y_pred"
   ]
  },
  {
   "cell_type": "code",
   "execution_count": 14,
   "metadata": {},
   "outputs": [
    {
     "data": {
      "text/plain": [
       "[<matplotlib.lines.Line2D at 0x1a7642bc5c8>]"
      ]
     },
     "execution_count": 14,
     "metadata": {},
     "output_type": "execute_result"
    },
    {
     "data": {
      "image/png": "[encoded data removed]",
      "text/plain": [
       "<Figure size 432x288 with 1 Axes>"
      ]
     },
     "metadata": {
      "needs_background": "light"
     },
     "output_type": "display_data"
    }
   ],
   "source": [
    "df.plot(kind = 'scatter', x = 'Height', y = 'Weight', title = 'Weight and Height in Adults')\n",
    "plt.plot(x, y_pred, color = 'red', linewidth = 3)"
   ]
  },
  {
   "cell_type": "code",
   "execution_count": 15,
   "metadata": {},
   "outputs": [],
   "source": [
    "w,b = model.get_weights()"
   ]
  },
  {
   "cell_type": "code",
   "execution_count": 16,
   "metadata": {},
   "outputs": [
    {
     "data": {
      "text/plain": [
       "array([[7.8583183]], dtype=float32)"
      ]
     },
     "execution_count": 16,
     "metadata": {},
     "output_type": "execute_result"
    }
   ],
   "source": [
    "w"
   ]
  },
  {
   "cell_type": "code",
   "execution_count": 17,
   "metadata": {},
   "outputs": [
    {
     "data": {
      "text/plain": [
       "array([-348.6973], dtype=float32)"
      ]
     },
     "execution_count": 17,
     "metadata": {},
     "output_type": "execute_result"
    }
   ],
   "source": [
    "b"
   ]
  },
  {
   "cell_type": "code",
   "execution_count": 18,
   "metadata": {},
   "outputs": [
    {
     "data": {
      "text/plain": [
       "array([[1222.9664]], dtype=float32)"
      ]
     },
     "execution_count": 18,
     "metadata": {},
     "output_type": "execute_result"
    }
   ],
   "source": [
    "model.predict([[200]])"
   ]
  },
  {
   "cell_type": "code",
   "execution_count": 19,
   "metadata": {},
   "outputs": [
    {
     "data": {
      "text/plain": [
       "array([[3580.462]], dtype=float32)"
      ]
     },
     "execution_count": 19,
     "metadata": {},
     "output_type": "execute_result"
    }
   ],
   "source": [
    "model.predict([[500]])"
   ]
  },
  {
   "cell_type": "code",
   "execution_count": 20,
   "metadata": {},
   "outputs": [
    {
     "data": {
      "text/plain": [
       "array([[437.13455]], dtype=float32)"
      ]
     },
     "execution_count": 20,
     "metadata": {},
     "output_type": "execute_result"
    }
   ],
   "source": [
    "model.predict([[100]])"
   ]
  }
 ],
 "metadata": {
  "kernelspec": {
   "display_name": "Python 3",
   "language": "python",
   "name": "python3"
  },
  "language_info": {
   "codemirror_mode": {
    "name": "ipython",
    "version": 3
   },
   "file_extension": ".py",
   "mimetype": "text/x-python",
   "name": "python",
   "nbconvert_exporter": "python",
   "pygments_lexer": "ipython3",
   "version": "3.7.7"
  }
 },
 "nbformat": 4,
 "nbformat_minor": 4
}
