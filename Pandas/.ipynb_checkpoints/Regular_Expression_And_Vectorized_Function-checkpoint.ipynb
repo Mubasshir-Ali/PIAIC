{
 "cells": [
  {
   "cell_type": "markdown",
   "metadata": {},
   "source": [
    "# Regular Expressions"
   ]
  },
  {
   "cell_type": "markdown",
   "metadata": {},
   "source": [
    "When you call re.split('\\s+',text), the regular expression is first compiled, and then its split\n",
    "method is called on the passed text. You can compile the regex yourself with re.compile, forming\n",
    "a reusable regex object:"
   ]
  },
  {
   "cell_type": "code",
   "execution_count": 8,
   "metadata": {},
   "outputs": [],
   "source": [
    "import numpy as np\n",
    "import pandas as pd\n",
    "import re"
   ]
  },
  {
   "cell_type": "code",
   "execution_count": 5,
   "metadata": {},
   "outputs": [
    {
     "data": {
      "text/plain": [
       "['foo', 'bar', 'baz', 'qux']"
      ]
     },
     "execution_count": 5,
     "metadata": {},
     "output_type": "execute_result"
    }
   ],
   "source": [
    "text = \"foo    bar\\t baz \\tqux\"\n",
    "# normal split = text.split()qux\n",
    "re.split('\\s+', text) # spliting basedon whitespaces\n",
    "text.split(\" \")\n",
    "['foo', 'bar', 'baz', 'qux']\n",
    "# compile once to use again and again and saved time\n",
    "rgx = re.compile('\\s+')\n",
    "rgx.split(text)"
   ]
  },
  {
   "cell_type": "code",
   "execution_count": 6,
   "metadata": {},
   "outputs": [
    {
     "data": {
      "text/plain": [
       "['foo', 'bar', 'baz', 'qux']"
      ]
     },
     "execution_count": 6,
     "metadata": {},
     "output_type": "execute_result"
    }
   ],
   "source": [
    "text = \"foo    bar\\t baz \\tqux\"\n",
    "# normal split = text.split()qux\n",
    "re.split('\\s+', text) # spliting basedon whitespaces"
   ]
  },
  {
   "cell_type": "code",
   "execution_count": 7,
   "metadata": {},
   "outputs": [
    {
     "data": {
      "text/plain": [
       "['foo', '', '', '', 'bar\\t', 'baz', '\\tqux']"
      ]
     },
     "execution_count": 7,
     "metadata": {},
     "output_type": "execute_result"
    }
   ],
   "source": [
    "text = \"foo    bar\\t baz \\tqux\"\n",
    "text.split(\" \")"
   ]
  },
  {
   "cell_type": "code",
   "execution_count": 9,
   "metadata": {},
   "outputs": [
    {
     "data": {
      "text/plain": [
       "['foo', 'bar', 'baz', 'qux']"
      ]
     },
     "execution_count": 9,
     "metadata": {},
     "output_type": "execute_result"
    }
   ],
   "source": [
    "text = \"foo    bar\\t baz \\tqux\"\n",
    "['foo', 'bar', 'baz', 'qux']"
   ]
  },
  {
   "cell_type": "code",
   "execution_count": 11,
   "metadata": {},
   "outputs": [
    {
     "data": {
      "text/plain": [
       "['foo', 'bar', 'baz', 'qux']"
      ]
     },
     "execution_count": 11,
     "metadata": {},
     "output_type": "execute_result"
    }
   ],
   "source": [
    "text = \"foo    bar\\t baz \\tqux\"\n",
    "\n",
    "# compile once to use again and again and saved time\n",
    "rgx = re.compile('\\s+')\n",
    "rgx.split(text)"
   ]
  },
  {
   "cell_type": "code",
   "execution_count": 12,
   "metadata": {},
   "outputs": [
    {
     "data": {
      "text/plain": [
       "['foo    bar\\t baz \\tqux']"
      ]
     },
     "execution_count": 12,
     "metadata": {},
     "output_type": "execute_result"
    }
   ],
   "source": [
    "text = \"foo    bar\\t baz \\tqux\"\n",
    "\n",
    "# compile once to use again and again and saved time\n",
    "rgx = re.compile('\\s-')\n",
    "rgx.split(text)"
   ]
  },
  {
   "cell_type": "code",
   "execution_count": 13,
   "metadata": {},
   "outputs": [
    {
     "data": {
      "text/plain": [
       "['',\n",
       " 'f',\n",
       " 'o',\n",
       " 'o',\n",
       " '',\n",
       " 'b',\n",
       " 'a',\n",
       " 'r',\n",
       " '',\n",
       " 'b',\n",
       " 'a',\n",
       " 'z',\n",
       " '',\n",
       " 'q',\n",
       " 'u',\n",
       " 'x',\n",
       " '']"
      ]
     },
     "execution_count": 13,
     "metadata": {},
     "output_type": "execute_result"
    }
   ],
   "source": [
    "text = \"foo    bar\\t baz \\tqux\"\n",
    "\n",
    "# compile once to use again and again and saved time\n",
    "rgx = re.compile('\\s*')\n",
    "rgx.split(text)"
   ]
  },
  {
   "cell_type": "code",
   "execution_count": 14,
   "metadata": {},
   "outputs": [
    {
     "data": {
      "text/plain": [
       "['foo    bar\\t baz \\tqux']"
      ]
     },
     "execution_count": 14,
     "metadata": {},
     "output_type": "execute_result"
    }
   ],
   "source": [
    "text = \"foo    bar\\t baz \\tqux\"\n",
    "\n",
    "# compile once to use again and again and saved time\n",
    "rgx = re.compile('\\s/')\n",
    "rgx.split(text)"
   ]
  },
  {
   "cell_type": "code",
   "execution_count": 15,
   "metadata": {},
   "outputs": [
    {
     "data": {
      "text/plain": [
       "['foo    bar\\t baz \\tqux']"
      ]
     },
     "execution_count": 15,
     "metadata": {},
     "output_type": "execute_result"
    }
   ],
   "source": [
    "text = \"foo    bar\\t baz \\tqux\"\n",
    "\n",
    "# compile once to use again and again and saved time\n",
    "rgx = re.compile('\\s%')\n",
    "rgx.split(text)"
   ]
  },
  {
   "cell_type": "markdown",
   "metadata": {},
   "source": [
    "# Vectorized String Functions In Pandas"
   ]
  },
  {
   "cell_type": "code",
   "execution_count": 20,
   "metadata": {},
   "outputs": [
    {
     "data": {
      "text/plain": [
       "0          simpleEmail@email.com\n",
       "1         simple.email@email.com\n",
       "2          plus+symbol@email.com\n",
       "3          dash-symbol@email.com\n",
       "4                    q@email.com\n",
       "5            “unusual”@email.com\n",
       "6     dash-symbol@email-dash.com\n",
       "7               test@emailServer\n",
       "8                  ” “@email.com\n",
       "9        user@[IPv6:2001:DB8::1]\n",
       "10             example@localhost\n",
       "11           example@s.solutions\n",
       "12               12345@email.com\n",
       "dtype: object"
      ]
     },
     "metadata": {},
     "output_type": "display_data"
    },
    {
     "data": {
      "text/plain": [
       "0          simpleEmail@email.com\n",
       "2          plus+symbol@email.com\n",
       "3          dash-symbol@email.com\n",
       "4                    q@email.com\n",
       "6     dash-symbol@email-dash.com\n",
       "11           example@s.solutions\n",
       "12               12345@email.com\n",
       "dtype: object"
      ]
     },
     "execution_count": 20,
     "metadata": {},
     "output_type": "execute_result"
    }
   ],
   "source": [
    "data = {'Dave': 'dave@google.com', 'Steve': 'steve@gmail.com',\n",
    "'Rob': 'rob@gmail.com', 'Wes': np.nan}\n",
    "data = [\"simpleEmail@email.com\",   \"simple.email@email.com\",  \n",
    "        \"plus+symbol@email.com\",   \"dash-symbol@email.com\",  \n",
    "     \"q@email.com\",   \n",
    "    \"“unusual”@email.com\",   \"dash-symbol@email-dash.com\",   \"test@emailServer\",  \n",
    "  \"” “@email.com\",   \"user@[IPv6:2001:DB8::1]\",   \n",
    "  \"example@localhost\",   \"example@s.solutions\",   \n",
    "  \"12345@email.com\"]   \n",
    "\n",
    "data = pd.Series(data)\n",
    "display(data)\n",
    "pattern = '([A-Z0-9_%+-]+)@([A-Z0-9.-]+)\\\\.([A-z]{2,4})'\n",
    "data.str.findall(pattern, flags = re.IGNORECASE)\n",
    "matches = data[data.str.match(pattern, flags = re.IGNORECASE)]\n",
    "matches"
   ]
  },
  {
   "cell_type": "code",
   "execution_count": 22,
   "metadata": {},
   "outputs": [
    {
     "data": {
      "text/plain": [
       "0          simpleEmail@email.com\n",
       "1         simple.email@email.com\n",
       "2          plus+symbol@email.com\n",
       "3          dash-symbol@email.com\n",
       "4                    q@email.com\n",
       "5            “unusual”@email.com\n",
       "6     dash-symbol@email-dash.com\n",
       "7               test@emailServer\n",
       "8                  ” “@email.com\n",
       "9        user@[IPv6:2001:DB8::1]\n",
       "10             example@localhost\n",
       "11           example@s.solutions\n",
       "12               12345@email.com\n",
       "dtype: object"
      ]
     },
     "metadata": {},
     "output_type": "display_data"
    }
   ],
   "source": [
    "data = {'Dave': 'dave@google.com', 'Steve': 'steve@gmail.com',\n",
    "'Rob': 'rob@gmail.com', 'Wes': np.nan}\n",
    "data = [\"simpleEmail@email.com\",   \"simple.email@email.com\",  \n",
    "        \"plus+symbol@email.com\",   \"dash-symbol@email.com\",  \n",
    "     \"q@email.com\",   \n",
    "    \"“unusual”@email.com\",   \"dash-symbol@email-dash.com\",   \"test@emailServer\",  \n",
    "  \"” “@email.com\",   \"user@[IPv6:2001:DB8::1]\",   \n",
    "  \"example@localhost\",   \"example@s.solutions\",   \n",
    "  \"12345@email.com\"]   \n",
    "\n",
    "data = pd.Series(data)\n",
    "display(data)"
   ]
  },
  {
   "cell_type": "code",
   "execution_count": 24,
   "metadata": {},
   "outputs": [
    {
     "data": {
      "text/plain": [
       "0          simpleEmail@email.com\n",
       "1         simple.email@email.com\n",
       "2          plus+symbol@email.com\n",
       "3          dash-symbol@email.com\n",
       "4                    q@email.com\n",
       "5            “unusual”@email.com\n",
       "6     dash-symbol@email-dash.com\n",
       "7               test@emailServer\n",
       "8                  ” “@email.com\n",
       "9        user@[IPv6:2001:DB8::1]\n",
       "10             example@localhost\n",
       "11           example@s.solutions\n",
       "12               12345@email.com\n",
       "dtype: object"
      ]
     },
     "metadata": {},
     "output_type": "display_data"
    }
   ],
   "source": [
    "data = {'Dave': 'dave@google.com', 'Steve': 'steve@gmail.com',\n",
    "'Rob': 'rob@gmail.com', 'Wes': np.nan}\n",
    "data = [\"simpleEmail@email.com\",   \"simple.email@email.com\",  \n",
    "        \"plus+symbol@email.com\",   \"dash-symbol@email.com\",  \n",
    "     \"q@email.com\",   \n",
    "    \"“unusual”@email.com\",   \"dash-symbol@email-dash.com\",   \"test@emailServer\",  \n",
    "  \"” “@email.com\",   \"user@[IPv6:2001:DB8::1]\",   \n",
    "  \"example@localhost\",   \"example@s.solutions\",   \n",
    "  \"12345@email.com\"]   \n",
    "\n",
    "data = pd.Series(data)\n",
    "display(data)\n",
    "pattern = '([A-Z0-9_%+-]+)@([A-Z0-9.-]+)\\\\.([A-z]{2,4})'"
   ]
  },
  {
   "cell_type": "code",
   "execution_count": 25,
   "metadata": {},
   "outputs": [
    {
     "data": {
      "text/plain": [
       "0          simpleEmail@email.com\n",
       "1         simple.email@email.com\n",
       "2          plus+symbol@email.com\n",
       "3          dash-symbol@email.com\n",
       "4                    q@email.com\n",
       "5            “unusual”@email.com\n",
       "6     dash-symbol@email-dash.com\n",
       "7               test@emailServer\n",
       "8                  ” “@email.com\n",
       "9        user@[IPv6:2001:DB8::1]\n",
       "10             example@localhost\n",
       "11           example@s.solutions\n",
       "12               12345@email.com\n",
       "dtype: object"
      ]
     },
     "metadata": {},
     "output_type": "display_data"
    },
    {
     "data": {
      "text/plain": [
       "0          simpleEmail@email.com\n",
       "2          plus+symbol@email.com\n",
       "3          dash-symbol@email.com\n",
       "4                    q@email.com\n",
       "6     dash-symbol@email-dash.com\n",
       "11           example@s.solutions\n",
       "12               12345@email.com\n",
       "dtype: object"
      ]
     },
     "execution_count": 25,
     "metadata": {},
     "output_type": "execute_result"
    }
   ],
   "source": [
    "data = {'Dave': 'dave@google.com', 'Steve': 'steve@gmail.com',\n",
    "'Rob': 'rob@gmail.com', 'Wes': np.nan}\n",
    "data = [\"simpleEmail@email.com\",   \"simple.email@email.com\",  \n",
    "        \"plus+symbol@email.com\",   \"dash-symbol@email.com\",  \n",
    "     \"q@email.com\",   \n",
    "    \"“unusual”@email.com\",   \"dash-symbol@email-dash.com\",   \"test@emailServer\",  \n",
    "  \"” “@email.com\",   \"user@[IPv6:2001:DB8::1]\",   \n",
    "  \"example@localhost\",   \"example@s.solutions\",   \n",
    "  \"12345@email.com\"]   \n",
    "\n",
    "data = pd.Series(data)\n",
    "display(data)\n",
    "pattern = '([A-Z0-9_%+-]+)@([A-Z0-9.-]+)\\\\.([A-z]{2,4})'\n",
    "data.str.findall(pattern, flags = re.IGNORECASE)\n",
    "matches"
   ]
  },
  {
   "cell_type": "code",
   "execution_count": 26,
   "metadata": {},
   "outputs": [
    {
     "data": {
      "text/plain": [
       "0          simpleEmail@email.com\n",
       "1         simple.email@email.com\n",
       "2          plus+symbol@email.com\n",
       "3          dash-symbol@email.com\n",
       "4                    q@email.com\n",
       "5            “unusual”@email.com\n",
       "6     dash-symbol@email-dash.com\n",
       "7               test@emailServer\n",
       "8                  ” “@email.com\n",
       "9        user@[IPv6:2001:DB8::1]\n",
       "10             example@localhost\n",
       "11           example@s.solutions\n",
       "12               12345@email.com\n",
       "dtype: object"
      ]
     },
     "metadata": {},
     "output_type": "display_data"
    },
    {
     "data": {
      "text/plain": [
       "0          simpleEmail@email.com\n",
       "2          plus+symbol@email.com\n",
       "3          dash-symbol@email.com\n",
       "4                    q@email.com\n",
       "6     dash-symbol@email-dash.com\n",
       "11           example@s.solutions\n",
       "12               12345@email.com\n",
       "dtype: object"
      ]
     },
     "execution_count": 26,
     "metadata": {},
     "output_type": "execute_result"
    }
   ],
   "source": [
    "data = {'Dave': 'dave@google.com', 'Steve': 'steve@gmail.com',\n",
    "'Rob': 'rob@gmail.com', 'Wes': np.nan}\n",
    "data = [\"simpleEmail@email.com\",   \"simple.email@email.com\",  \n",
    "        \"plus+symbol@email.com\",   \"dash-symbol@email.com\",  \n",
    "     \"q@email.com\",   \n",
    "    \"“unusual”@email.com\",   \"dash-symbol@email-dash.com\",   \"test@emailServer\",  \n",
    "  \"” “@email.com\",   \"user@[IPv6:2001:DB8::1]\",   \n",
    "  \"example@localhost\",   \"example@s.solutions\",   \n",
    "  \"12345@email.com\"]   \n",
    "\n",
    "data = pd.Series(data)\n",
    "display(data)\n",
    "pattern = '([A-Z0-9_%+-]+)@([A-Z0-9.-]+)\\\\.([A-z]{2,4})'\n",
    "matches = data[data.str.match(pattern, flags = re.IGNORECASE)]\n",
    "matches"
   ]
  },
  {
   "cell_type": "code",
   "execution_count": null,
   "metadata": {},
   "outputs": [],
   "source": []
  }
 ],
 "metadata": {
  "kernelspec": {
   "display_name": "Python 3",
   "language": "python",
   "name": "python3"
  },
  "language_info": {
   "codemirror_mode": {
    "name": "ipython",
    "version": 3
   },
   "file_extension": ".py",
   "mimetype": "text/x-python",
   "name": "python",
   "nbconvert_exporter": "python",
   "pygments_lexer": "ipython3",
   "version": "3.7.7"
  }
 },
 "nbformat": 4,
 "nbformat_minor": 4
}
