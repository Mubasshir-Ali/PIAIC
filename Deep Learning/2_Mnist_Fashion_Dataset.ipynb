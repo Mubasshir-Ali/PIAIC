{
 "cells": [
  {
   "cell_type": "code",
   "execution_count": 2,
   "metadata": {},
   "outputs": [
    {
     "name": "stdout",
     "output_type": "stream",
     "text": [
      "Train on 60000 samples\n",
      "Epoch 1/5\n",
      "60000/60000 [==============================] - 5s 83us/sample - loss: 0.5167 - accuracy: 0.8205\n",
      "Epoch 2/5\n",
      "60000/60000 [==============================] - 4s 74us/sample - loss: 0.3776 - accuracy: 0.8651\n",
      "Epoch 3/5\n",
      "60000/60000 [==============================] - 5s 75us/sample - loss: 0.3393 - accuracy: 0.8755\n",
      "Epoch 4/5\n",
      "60000/60000 [==============================] - 4s 75us/sample - loss: 0.3098 - accuracy: 0.8857\n",
      "Epoch 5/5\n",
      "60000/60000 [==============================] - 5s 76us/sample - loss: 0.2914 - accuracy: 0.8935\n",
      "10000/10000 [==============================] - 1s 134us/sample - loss: 0.3460 - accuracy: 0.8777\n"
     ]
    },
    {
     "data": {
      "text/plain": [
       "[0.3459712153673172, 0.8777]"
      ]
     },
     "execution_count": 2,
     "metadata": {},
     "output_type": "execute_result"
    }
   ],
   "source": [
    "import tensorflow as tf\n",
    "mnist = tf.keras.datasets.fashion_mnist\n",
    "\n",
    "(training_images, training_labels), (test_images, test_labels) = mnist.load_data()\n",
    "\n",
    "training_images = training_images / 255.0\n",
    "test_images = test_images / 255.0\n",
    "\n",
    "model = tf.keras.Sequential([tf.keras.layers.Flatten(),\n",
    "                             tf.keras.layers.Dense(512, activation = tf.nn.relu),\n",
    "                             tf.keras.layers.Dense(12, activation = tf.nn.softmax)])\n",
    "\n",
    "model.compile(optimizer = tf.keras.optimizers.Adam(), loss = 'sparse_categorical_crossentropy', metrics = ['accuracy'])\n",
    "            \n",
    "model.fit(training_images, training_labels, epochs = 5, batch_size = 128)\n",
    "\n",
    "model.evaluate(test_images, test_labels)"
   ]
  },
  {
   "cell_type": "code",
   "execution_count": null,
   "metadata": {},
   "outputs": [],
   "source": []
  }
 ],
 "metadata": {
  "kernelspec": {
   "display_name": "Python 3",
   "language": "python",
   "name": "python3"
  },
  "language_info": {
   "codemirror_mode": {
    "name": "ipython",
    "version": 3
   },
   "file_extension": ".py",
   "mimetype": "text/x-python",
   "name": "python",
   "nbconvert_exporter": "python",
   "pygments_lexer": "ipython3",
   "version": "3.7.7"
  }
 },
 "nbformat": 4,
 "nbformat_minor": 4
}
