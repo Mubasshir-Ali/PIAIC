{
 "cells": [
  {
   "cell_type": "code",
   "execution_count": 1,
   "metadata": {},
   "outputs": [
    {
     "name": "stdout",
     "output_type": "stream",
     "text": [
      "C\n",
      "C\n"
     ]
    }
   ],
   "source": [
    "#         0   1 2\n",
    "names = [\"A\",\"B\",\"C\"]\n",
    "#        -3  -2  -1\n",
    "print(names[2])\n",
    "print(names[-1])"
   ]
  },
  {
   "cell_type": "code",
   "execution_count": 2,
   "metadata": {},
   "outputs": [
    {
     "data": {
      "text/plain": [
       "46"
      ]
     },
     "execution_count": 2,
     "metadata": {},
     "output_type": "execute_result"
    }
   ],
   "source": [
    "len(dir(list))"
   ]
  },
  {
   "cell_type": "code",
   "execution_count": 3,
   "metadata": {},
   "outputs": [
    {
     "data": {
      "text/plain": [
       "['A', 'B', 'C', '3']"
      ]
     },
     "execution_count": 3,
     "metadata": {},
     "output_type": "execute_result"
    }
   ],
   "source": [
    "names = []  # empty list\n",
    "names.append(\"A\")\n",
    "names.append(\"B\")\n",
    "names.append(\"C\")\n",
    "names.append(\"3\")\n",
    "# A,B,C,3\n",
    "names"
   ]
  },
  {
   "cell_type": "code",
   "execution_count": 4,
   "metadata": {},
   "outputs": [
    {
     "name": "stdout",
     "output_type": "stream",
     "text": [
      "Enter Valuej\n"
     ]
    },
    {
     "data": {
      "text/plain": [
       "['A', 'B', 'C', '3', 'j']"
      ]
     },
     "execution_count": 4,
     "metadata": {},
     "output_type": "execute_result"
    }
   ],
   "source": [
    "names = []  # empty list\n",
    "names.append(\"A\")\n",
    "names.append(\"B\")\n",
    "names.append(\"C\")\n",
    "names.append(\"3\")\n",
    "# A,B,C,3\n",
    "a = input(\"Enter Value\")\n",
    "names.append(a)\n",
    "names"
   ]
  },
  {
   "cell_type": "code",
   "execution_count": 7,
   "metadata": {},
   "outputs": [
    {
     "name": "stdout",
     "output_type": "stream",
     "text": [
      "['A', 'B', 'C']\n",
      "[]\n"
     ]
    }
   ],
   "source": [
    "names = ['A','B','C']\n",
    "print(names)\n",
    "names.clear()\n",
    "print(names)"
   ]
  },
  {
   "cell_type": "code",
   "execution_count": 9,
   "metadata": {},
   "outputs": [
    {
     "name": "stdout",
     "output_type": "stream",
     "text": [
      "names ['A', 'B', 'C']\n",
      "names ['A', 'B', 'C']\n",
      "names ['PAKISTAN', 'B', 'C']\n",
      "names ['PAKISTAN', 'B', 'C']\n"
     ]
    }
   ],
   "source": [
    "names = ['A','B','C']\n",
    "names1=names  # Shallow copy\n",
    "\n",
    "print(\"names\",names)\n",
    "print(\"names\",names1)\n",
    "\n",
    "names[0] = \"PAKISTAN\"\n",
    "\n",
    "print(\"names\",names)\n",
    "print(\"names\",names1)"
   ]
  },
  {
   "cell_type": "code",
   "execution_count": 11,
   "metadata": {},
   "outputs": [
    {
     "name": "stdout",
     "output_type": "stream",
     "text": [
      "names ['A', 'B', 'C']\n",
      "names ['A', 'B', 'C']\n",
      "names ['PAKISTAN', 'B', 'C']\n",
      "names ['A', 'B', 'C']\n"
     ]
    }
   ],
   "source": [
    "names = ['A','B','C']\n",
    "names1=names.copy()  # Shallow copy\n",
    "\n",
    "print(\"names\",names)\n",
    "print(\"names\",names1)\n",
    "\n",
    "names[0] = \"PAKISTAN\"\n",
    "\n",
    "print(\"names\",names)\n",
    "print(\"names\",names1)"
   ]
  },
  {
   "cell_type": "code",
   "execution_count": 12,
   "metadata": {},
   "outputs": [
    {
     "data": {
      "text/plain": [
       "1"
      ]
     },
     "execution_count": 12,
     "metadata": {},
     "output_type": "execute_result"
    }
   ],
   "source": [
    "names = [\"A\",\"B\",\"C\"]\n",
    "names.count(\"A\")"
   ]
  },
  {
   "cell_type": "code",
   "execution_count": 13,
   "metadata": {},
   "outputs": [
    {
     "name": "stdout",
     "output_type": "stream",
     "text": [
      "[1, 2, 3, 4, 5, 6]\n",
      "[1, 2, 3]\n",
      "[4, 5, 6]\n"
     ]
    }
   ],
   "source": [
    "l1 = [1,2,3]\n",
    "l2 = [4,5,6]\n",
    "print(l1+l2)   # inline operation\n",
    "print(l1)\n",
    "print(l2)"
   ]
  },
  {
   "cell_type": "code",
   "execution_count": 14,
   "metadata": {},
   "outputs": [
    {
     "name": "stdout",
     "output_type": "stream",
     "text": [
      "[1, 2, 3]\n",
      "[4, 5, 6]\n",
      "[1, 2, 3, 4, 5, 6]\n",
      "[4, 5, 6]\n"
     ]
    }
   ],
   "source": [
    "l1 = [1,2,3]\n",
    "l2 = [4,5,6]\n",
    "\n",
    "print(l1)\n",
    "print(l2)\n",
    "\n",
    "l1.extend(l2)  # In Memory Operation\n",
    "\n",
    "print(l1)\n",
    "print(l2)"
   ]
  },
  {
   "cell_type": "code",
   "execution_count": 15,
   "metadata": {},
   "outputs": [
    {
     "name": "stdout",
     "output_type": "stream",
     "text": [
      "[1, 2, 3, 4, 5, 6]\n",
      "[4, 5, 6]\n"
     ]
    }
   ],
   "source": [
    "l1 = [1,2,3]\n",
    "l2 = [4,5,6]\n",
    "\n",
    "l1.extend(l2)  # In Memory Operation\n",
    "\n",
    "print(l1)\n",
    "print(l2)"
   ]
  },
  {
   "cell_type": "code",
   "execution_count": 16,
   "metadata": {},
   "outputs": [
    {
     "name": "stdout",
     "output_type": "stream",
     "text": [
      "1\n",
      "0\n"
     ]
    }
   ],
   "source": [
    "l1 = [\"A\",\"B\",\"C\",\"A\",\"C\",\"E\",\"A\"]\n",
    "print(l1.index('B'))\n",
    "print(l1.index('A'))"
   ]
  },
  {
   "cell_type": "code",
   "execution_count": 17,
   "metadata": {},
   "outputs": [
    {
     "name": "stdout",
     "output_type": "stream",
     "text": [
      "1\n",
      "0\n",
      "3\n"
     ]
    }
   ],
   "source": [
    "l1 = [\"A\",\"B\",\"C\",\"A\",\"C\",\"E\",\"A\"]\n",
    "print(l1.index('B'))\n",
    "print(l1.index('A'))\n",
    "print(l1.index('A', 1))"
   ]
  },
  {
   "cell_type": "code",
   "execution_count": 18,
   "metadata": {},
   "outputs": [
    {
     "name": "stdout",
     "output_type": "stream",
     "text": [
      "1\n",
      "0\n",
      "3\n"
     ]
    }
   ],
   "source": [
    "l1 = [\"A\",\"B\",\"C\",\"A\",\"C\",\"E\",\"\"\"A\"\"\"]\n",
    "print(l1.index('B'))\n",
    "print(l1.index('A'))\n",
    "print(l1.index('A', 1))"
   ]
  },
  {
   "cell_type": "code",
   "execution_count": 21,
   "metadata": {},
   "outputs": [
    {
     "name": "stdout",
     "output_type": "stream",
     "text": [
      "['C', 'B', 'A']\n",
      "['C', 'D', 'B', 'A']\n"
     ]
    }
   ],
   "source": [
    "l1 = []\n",
    "l1.insert(0,\"A\")\n",
    "l1.insert(0,\"B\")\n",
    "l1.insert(0,\"C\")\n",
    "\n",
    "# C B A\n",
    "print(l1)\n",
    "l1.insert(1, \"D\")\n",
    "print(l1)"
   ]
  },
  {
   "cell_type": "code",
   "execution_count": 23,
   "metadata": {},
   "outputs": [
    {
     "data": {
      "text/plain": [
       "['A', 'B']"
      ]
     },
     "execution_count": 23,
     "metadata": {},
     "output_type": "execute_result"
    }
   ],
   "source": [
    "names = ['A','B','C','C',\"D\"]\n",
    "\n",
    "names.pop() # Return function Main Value ham Add ar saktay hain\n",
    "names.pop() # Return\n",
    "names.pop() # Return\n",
    "# A B\n",
    "\n",
    "names"
   ]
  },
  {
   "cell_type": "code",
   "execution_count": 24,
   "metadata": {},
   "outputs": [
    {
     "data": {
      "text/plain": [
       "['A', 'B']"
      ]
     },
     "execution_count": 24,
     "metadata": {},
     "output_type": "execute_result"
    }
   ],
   "source": [
    "names = ['A','B','C','C',\"D\"]\n",
    "\n",
    "del names[-1] # Return function Main Value ham Add or save kar saktay hain\n",
    "del names[-1] # Return\n",
    "del names[-1] # Return\n",
    "# A B\n",
    "\n",
    "names"
   ]
  },
  {
   "cell_type": "code",
   "execution_count": 27,
   "metadata": {},
   "outputs": [
    {
     "ename": "SyntaxError",
     "evalue": "invalid syntax (<ipython-input-27-fb7d0773f88f>, line 4)",
     "output_type": "error",
     "traceback": [
      "\u001b[1;36m  File \u001b[1;32m\"<ipython-input-27-fb7d0773f88f>\"\u001b[1;36m, line \u001b[1;32m4\u001b[0m\n\u001b[1;33m    l1.append(del names[-1]) # Return function Main Value ham Add or save kar saktay hain\u001b[0m\n\u001b[1;37m                ^\u001b[0m\n\u001b[1;31mSyntaxError\u001b[0m\u001b[1;31m:\u001b[0m invalid syntax\n"
     ]
    }
   ],
   "source": [
    "l1 = []\n",
    "names = ['A','B','C','C',\"D\"]\n",
    "\n",
    "l1.append(del names[-1]) # Return function Main Value ham Add or save kar saktay hain\n",
    "l1.append(del names[-1]) # Return\n",
    "l1.append(del names[-1]) # Return\n",
    "# A B\n",
    "\n",
    "print(names)\n",
    "print(l1)"
   ]
  },
  {
   "cell_type": "code",
   "execution_count": 30,
   "metadata": {},
   "outputs": [
    {
     "name": "stdout",
     "output_type": "stream",
     "text": [
      "PAKISTAN\n",
      "None\n"
     ]
    }
   ],
   "source": [
    "a = print ('PAKISTAN')\n",
    "print(a)"
   ]
  },
  {
   "cell_type": "code",
   "execution_count": 32,
   "metadata": {},
   "outputs": [
    {
     "name": "stdout",
     "output_type": "stream",
     "text": [
      "4\n"
     ]
    }
   ],
   "source": [
    "l1 = [1,2,3,4]\n",
    "a = l1.pop()\n",
    "print(a)"
   ]
  },
  {
   "cell_type": "code",
   "execution_count": 33,
   "metadata": {},
   "outputs": [
    {
     "name": "stdout",
     "output_type": "stream",
     "text": [
      "3\n"
     ]
    }
   ],
   "source": [
    "l1 = [1,2,3,4]\n",
    "a = l1.pop(2)\n",
    "print(a)"
   ]
  },
  {
   "cell_type": "code",
   "execution_count": 34,
   "metadata": {},
   "outputs": [
    {
     "name": "stdout",
     "output_type": "stream",
     "text": [
      "C\n"
     ]
    }
   ],
   "source": [
    "l1 = ['A','B','C','D']\n",
    "a = l1.pop(2)\n",
    "print(a)"
   ]
  },
  {
   "cell_type": "code",
   "execution_count": 28,
   "metadata": {},
   "outputs": [
    {
     "name": "stdout",
     "output_type": "stream",
     "text": [
      "['A', 'B']\n",
      "['D', 'C', 'C']\n"
     ]
    }
   ],
   "source": [
    "l1 = []\n",
    "names = ['A','B','C','C',\"D\"]\n",
    "\n",
    "a = names.pop()\n",
    "l1.append(a) # Return\n",
    "\n",
    "a = names.pop()\n",
    "l1.append(a) # Return\n",
    "\n",
    "a = names.pop()\n",
    "l1.append(a) # Return\n",
    "# A B\n",
    "\n",
    "print(names)\n",
    "print(l1)"
   ]
  },
  {
   "cell_type": "code",
   "execution_count": 29,
   "metadata": {},
   "outputs": [
    {
     "name": "stdout",
     "output_type": "stream",
     "text": [
      "['A', 'B', 'C', 'C', 'D']\n",
      "['A', 'B']\n",
      "['D', 'C', 'C']\n"
     ]
    }
   ],
   "source": [
    "l1 = [] # D C C\n",
    "names = ['A','B','C','C',\"D\"]\n",
    "print(names)\n",
    "\n",
    "a = names.pop()\n",
    "l1.append(a) # Return\n",
    "\n",
    "a = names.pop()\n",
    "l1.append(a) # Return\n",
    "\n",
    "a = names.pop()\n",
    "l1.append(a) # Return\n",
    "# A B\n",
    "\n",
    "print(names)\n",
    "print(l1)"
   ]
  },
  {
   "cell_type": "code",
   "execution_count": 35,
   "metadata": {},
   "outputs": [
    {
     "name": "stdout",
     "output_type": "stream",
     "text": [
      "B\n"
     ]
    }
   ],
   "source": [
    "l1 = ['A','B','C','D']\n",
    "a = l1.pop(l1.index(\"B\"))\n",
    "\n",
    "print(a)"
   ]
  },
  {
   "cell_type": "code",
   "execution_count": 36,
   "metadata": {},
   "outputs": [
    {
     "name": "stdout",
     "output_type": "stream",
     "text": [
      "None\n"
     ]
    }
   ],
   "source": [
    "l1 = ['A','B','C','D']\n",
    "a = l1.remove(\"B\") # Non Return\n",
    "print(a)"
   ]
  },
  {
   "cell_type": "code",
   "execution_count": 37,
   "metadata": {},
   "outputs": [
    {
     "name": "stdout",
     "output_type": "stream",
     "text": [
      "['A', 'B', 'C', 'Z', 'Y', 'X']\n",
      "['X', 'Y', 'Z', 'C', 'B', 'A']\n"
     ]
    }
   ],
   "source": [
    "l1 = [\"A\",\"B\",\"C\",\"Z\",\"Y\",\"X\"]\n",
    "print(l1)\n",
    "l1.reverse()\n",
    "print(l1)"
   ]
  },
  {
   "cell_type": "code",
   "execution_count": 38,
   "metadata": {},
   "outputs": [
    {
     "name": "stdout",
     "output_type": "stream",
     "text": [
      "['A', 'B', 'C', 'Z', 'Y', 'X']\n",
      "['A', 'B', 'C', 'X', 'Y', 'Z']\n"
     ]
    }
   ],
   "source": [
    "l1 = [\"A\",\"B\",\"C\",\"Z\",\"Y\",\"X\"]\n",
    "print(l1)\n",
    "l1.sort()\n",
    "print(l1)"
   ]
  },
  {
   "cell_type": "code",
   "execution_count": 39,
   "metadata": {},
   "outputs": [
    {
     "name": "stdout",
     "output_type": "stream",
     "text": [
      "['A', 'B', 'C', 'Z', 'Y', 'X']\n",
      "['Z', 'Y', 'X', 'C', 'B', 'A']\n"
     ]
    }
   ],
   "source": [
    "l1 = [\"A\",\"B\",\"C\",\"Z\",\"Y\",\"X\"]\n",
    "print(l1)\n",
    "l1.sort()\n",
    "l1.reverse()\n",
    "print(l1)"
   ]
  },
  {
   "cell_type": "code",
   "execution_count": 41,
   "metadata": {},
   "outputs": [
    {
     "name": "stdout",
     "output_type": "stream",
     "text": [
      "['A', 'B', 'C', 'Z', 'Y', 'X']\n",
      "['Z', 'Y', 'X', 'C', 'B', 'A']\n"
     ]
    }
   ],
   "source": [
    "l1 = [\"A\",\"B\",\"C\",\"Z\",\"Y\",\"X\"]\n",
    "print(l1)\n",
    "l1.sort(reverse = True)\n",
    "print(l1)"
   ]
  },
  {
   "cell_type": "code",
   "execution_count": 45,
   "metadata": {},
   "outputs": [
    {
     "data": {
      "text/plain": [
       "['A', 'B', 'C', 'Z', 'Y', 'X', 1, 4, 6]"
      ]
     },
     "execution_count": 45,
     "metadata": {},
     "output_type": "execute_result"
    }
   ],
   "source": [
    "l1 = [\"A\",\"B\",\"C\",\"Z\",\"Y\",\"X\"]\n",
    "l1.__add__([1,4,6])"
   ]
  },
  {
   "cell_type": "code",
   "execution_count": 46,
   "metadata": {},
   "outputs": [
    {
     "data": {
      "text/plain": [
       "list"
      ]
     },
     "execution_count": 46,
     "metadata": {},
     "output_type": "execute_result"
    }
   ],
   "source": [
    "l1 = [\"A\",\"B\",\"C\",\"Z\",\"Y\",\"X\"]\n",
    "l1.__class__"
   ]
  },
  {
   "cell_type": "code",
   "execution_count": 47,
   "metadata": {},
   "outputs": [
    {
     "name": "stdout",
     "output_type": "stream",
     "text": [
      "Help on class list in module builtins:\n",
      "\n",
      "class list(object)\n",
      " |  list(iterable=(), /)\n",
      " |  \n",
      " |  Built-in mutable sequence.\n",
      " |  \n",
      " |  If no argument is given, the constructor creates a new empty list.\n",
      " |  The argument must be an iterable if specified.\n",
      " |  \n",
      " |  Methods defined here:\n",
      " |  \n",
      " |  __add__(self, value, /)\n",
      " |      Return self+value.\n",
      " |  \n",
      " |  __contains__(self, key, /)\n",
      " |      Return key in self.\n",
      " |  \n",
      " |  __delitem__(self, key, /)\n",
      " |      Delete self[key].\n",
      " |  \n",
      " |  __eq__(self, value, /)\n",
      " |      Return self==value.\n",
      " |  \n",
      " |  __ge__(self, value, /)\n",
      " |      Return self>=value.\n",
      " |  \n",
      " |  __getattribute__(self, name, /)\n",
      " |      Return getattr(self, name).\n",
      " |  \n",
      " |  __getitem__(...)\n",
      " |      x.__getitem__(y) <==> x[y]\n",
      " |  \n",
      " |  __gt__(self, value, /)\n",
      " |      Return self>value.\n",
      " |  \n",
      " |  __iadd__(self, value, /)\n",
      " |      Implement self+=value.\n",
      " |  \n",
      " |  __imul__(self, value, /)\n",
      " |      Implement self*=value.\n",
      " |  \n",
      " |  __init__(self, /, *args, **kwargs)\n",
      " |      Initialize self.  See help(type(self)) for accurate signature.\n",
      " |  \n",
      " |  __iter__(self, /)\n",
      " |      Implement iter(self).\n",
      " |  \n",
      " |  __le__(self, value, /)\n",
      " |      Return self<=value.\n",
      " |  \n",
      " |  __len__(self, /)\n",
      " |      Return len(self).\n",
      " |  \n",
      " |  __lt__(self, value, /)\n",
      " |      Return self<value.\n",
      " |  \n",
      " |  __mul__(self, value, /)\n",
      " |      Return self*value.\n",
      " |  \n",
      " |  __ne__(self, value, /)\n",
      " |      Return self!=value.\n",
      " |  \n",
      " |  __repr__(self, /)\n",
      " |      Return repr(self).\n",
      " |  \n",
      " |  __reversed__(self, /)\n",
      " |      Return a reverse iterator over the list.\n",
      " |  \n",
      " |  __rmul__(self, value, /)\n",
      " |      Return value*self.\n",
      " |  \n",
      " |  __setitem__(self, key, value, /)\n",
      " |      Set self[key] to value.\n",
      " |  \n",
      " |  __sizeof__(self, /)\n",
      " |      Return the size of the list in memory, in bytes.\n",
      " |  \n",
      " |  append(self, object, /)\n",
      " |      Append object to the end of the list.\n",
      " |  \n",
      " |  clear(self, /)\n",
      " |      Remove all items from list.\n",
      " |  \n",
      " |  copy(self, /)\n",
      " |      Return a shallow copy of the list.\n",
      " |  \n",
      " |  count(self, value, /)\n",
      " |      Return number of occurrences of value.\n",
      " |  \n",
      " |  extend(self, iterable, /)\n",
      " |      Extend list by appending elements from the iterable.\n",
      " |  \n",
      " |  index(self, value, start=0, stop=9223372036854775807, /)\n",
      " |      Return first index of value.\n",
      " |      \n",
      " |      Raises ValueError if the value is not present.\n",
      " |  \n",
      " |  insert(self, index, object, /)\n",
      " |      Insert object before index.\n",
      " |  \n",
      " |  pop(self, index=-1, /)\n",
      " |      Remove and return item at index (default last).\n",
      " |      \n",
      " |      Raises IndexError if list is empty or index is out of range.\n",
      " |  \n",
      " |  remove(self, value, /)\n",
      " |      Remove first occurrence of value.\n",
      " |      \n",
      " |      Raises ValueError if the value is not present.\n",
      " |  \n",
      " |  reverse(self, /)\n",
      " |      Reverse *IN PLACE*.\n",
      " |  \n",
      " |  sort(self, /, *, key=None, reverse=False)\n",
      " |      Stable sort *IN PLACE*.\n",
      " |  \n",
      " |  ----------------------------------------------------------------------\n",
      " |  Static methods defined here:\n",
      " |  \n",
      " |  __new__(*args, **kwargs) from builtins.type\n",
      " |      Create and return a new object.  See help(type) for accurate signature.\n",
      " |  \n",
      " |  ----------------------------------------------------------------------\n",
      " |  Data and other attributes defined here:\n",
      " |  \n",
      " |  __hash__ = None\n",
      "\n"
     ]
    }
   ],
   "source": [
    "help(list)"
   ]
  },
  {
   "cell_type": "code",
   "execution_count": 48,
   "metadata": {},
   "outputs": [
    {
     "name": "stdout",
     "output_type": "stream",
     "text": [
      "['A', 'C', 'Z', 'Y', 'X']\n"
     ]
    }
   ],
   "source": [
    "l1 = [\"A\",\"B\",\"C\",\"Z\",\"Y\",\"X\"]\n",
    "l1.__delitem__(1)\n",
    "print(l1)"
   ]
  },
  {
   "cell_type": "code",
   "execution_count": 49,
   "metadata": {},
   "outputs": [
    {
     "data": {
      "text/plain": [
       "'Built-in mutable sequence.\\n\\nIf no argument is given, the constructor creates a new empty list.\\nThe argument must be an iterable if specified.'"
      ]
     },
     "execution_count": 49,
     "metadata": {},
     "output_type": "execute_result"
    }
   ],
   "source": [
    "l1 = [\"A\",\"B\",\"C\",\"Z\",\"Y\",\"X\"]\n",
    "l1.__doc__"
   ]
  },
  {
   "cell_type": "code",
   "execution_count": 52,
   "metadata": {},
   "outputs": [
    {
     "name": "stdout",
     "output_type": "stream",
     "text": [
      "False\n"
     ]
    }
   ],
   "source": [
    "l1 = [5,8,9]\n",
    "l2 = [3,2,1]\n",
    "l3 = [7,9,10]\n",
    "\n",
    "print(l1.__eq__(l2))"
   ]
  },
  {
   "cell_type": "code",
   "execution_count": 55,
   "metadata": {},
   "outputs": [
    {
     "name": "stdout",
     "output_type": "stream",
     "text": [
      "False\n",
      "True\n"
     ]
    }
   ],
   "source": [
    "l1 = [5,8,9]\n",
    "l2 = [3,2,1]\n",
    "l3 = [7,9,10]\n",
    "l4 = [4,6,11]\n",
    "\n",
    "print(l1.__eq__(l4))\n",
    "print(l1.__ge__(l2))"
   ]
  },
  {
   "cell_type": "code",
   "execution_count": 59,
   "metadata": {},
   "outputs": [
    {
     "name": "stdout",
     "output_type": "stream",
     "text": [
      "False\n",
      "True\n",
      "3\n"
     ]
    }
   ],
   "source": [
    "l1 = [5,8,9]\n",
    "l2 = [3,2,1]\n",
    "l3 = [7,9,10]\n",
    "l4 = [4,6,11]\n",
    "\n",
    "print(l1.__eq__(l4))\n",
    "print(l1.__ge__(l2))\n",
    "print(l1.__len__())"
   ]
  },
  {
   "cell_type": "code",
   "execution_count": 60,
   "metadata": {},
   "outputs": [],
   "source": [
    "# Tuple Start"
   ]
  },
  {
   "cell_type": "code",
   "execution_count": 61,
   "metadata": {},
   "outputs": [
    {
     "ename": "SyntaxError",
     "evalue": "invalid syntax (<ipython-input-61-680515e0cce7>, line 1)",
     "output_type": "error",
     "traceback": [
      "\u001b[1;36m  File \u001b[1;32m\"<ipython-input-61-680515e0cce7>\"\u001b[1;36m, line \u001b[1;32m1\u001b[0m\n\u001b[1;33m    l1 =\u001b[0m\n\u001b[1;37m         ^\u001b[0m\n\u001b[1;31mSyntaxError\u001b[0m\u001b[1;31m:\u001b[0m invalid syntax\n"
     ]
    }
   ],
   "source": [
    "l1 = "
   ]
  },
  {
   "cell_type": "code",
   "execution_count": 62,
   "metadata": {},
   "outputs": [],
   "source": [
    "# Loop Start (While,for)\n",
    "\n",
    "# Counter\n",
    "# Logic\n",
    "# increment / decrement"
   ]
  },
  {
   "cell_type": "code",
   "execution_count": 63,
   "metadata": {},
   "outputs": [
    {
     "name": "stdout",
     "output_type": "stream",
     "text": [
      "1\n",
      "2\n",
      "3\n",
      "4\n",
      "5\n",
      "6\n",
      "7\n",
      "8\n",
      "9\n",
      "10\n"
     ]
    }
   ],
   "source": [
    "counter = 1\n",
    "while counter <=10:\n",
    "    print (counter)\n",
    "    counter +=1"
   ]
  },
  {
   "cell_type": "code",
   "execution_count": 65,
   "metadata": {},
   "outputs": [
    {
     "name": "stdout",
     "output_type": "stream",
     "text": [
      "Pakistan 1\n",
      "Pakistan 2\n",
      "Pakistan 3\n",
      "Pakistan 4\n",
      "Pakistan 5\n",
      "Pakistan 6\n",
      "Pakistan 7\n",
      "Pakistan 8\n",
      "Pakistan 9\n",
      "Pakistan 10\n"
     ]
    }
   ],
   "source": [
    "counter = 1\n",
    "while counter <=10:\n",
    "    print (\"Pakistan\",counter)\n",
    "    counter +=1 #increment"
   ]
  },
  {
   "cell_type": "code",
   "execution_count": 68,
   "metadata": {},
   "outputs": [
    {
     "name": "stdout",
     "output_type": "stream",
     "text": [
      "Pakistan 1000\n",
      "Pakistan 999\n",
      "Pakistan 998\n",
      "Pakistan 997\n",
      "Pakistan 996\n",
      "Pakistan 995\n",
      "Pakistan 994\n",
      "Pakistan 993\n",
      "Pakistan 992\n",
      "Pakistan 991\n",
      "Pakistan 990\n"
     ]
    }
   ],
   "source": [
    "counter = 1000\n",
    "while counter >=990:\n",
    "    print (\"Pakistan\",counter)\n",
    "    counter -=1"
   ]
  },
  {
   "cell_type": "code",
   "execution_count": 70,
   "metadata": {},
   "outputs": [
    {
     "data": {
      "text/plain": [
       "[1, 2, 3, 4, 5, 6, 7, 8, 9, 10]"
      ]
     },
     "execution_count": 70,
     "metadata": {},
     "output_type": "execute_result"
    }
   ],
   "source": [
    "list(range(1,11))"
   ]
  },
  {
   "cell_type": "code",
   "execution_count": 72,
   "metadata": {},
   "outputs": [
    {
     "name": "stdout",
     "output_type": "stream",
     "text": [
      "1\n",
      "2\n",
      "3\n",
      "4\n",
      "5\n",
      "6\n",
      "7\n",
      "8\n",
      "9\n",
      "10\n"
     ]
    }
   ],
   "source": [
    "for i in range(1,11):\n",
    "    print(i)"
   ]
  },
  {
   "cell_type": "code",
   "execution_count": 75,
   "metadata": {},
   "outputs": [
    {
     "name": "stdout",
     "output_type": "stream",
     "text": [
      "PAKISTAN 1\n",
      "PAKISTAN 2\n",
      "PAKISTAN 3\n",
      "PAKISTAN 4\n",
      "PAKISTAN 5\n",
      "PAKISTAN 6\n",
      "PAKISTAN 7\n",
      "PAKISTAN 8\n",
      "PAKISTAN 9\n",
      "PAKISTAN 10\n"
     ]
    }
   ],
   "source": [
    "for i in range(1,11):\n",
    "    print(\"PAKISTAN\", i)"
   ]
  },
  {
   "cell_type": "code",
   "execution_count": 74,
   "metadata": {},
   "outputs": [
    {
     "data": {
      "text/plain": [
       "[1, 2, 3, 4, 5, 6, 7, 8, 9, 10]"
      ]
     },
     "execution_count": 74,
     "metadata": {},
     "output_type": "execute_result"
    }
   ],
   "source": [
    "[i for i in range(1,11)]"
   ]
  },
  {
   "cell_type": "code",
   "execution_count": 76,
   "metadata": {},
   "outputs": [
    {
     "name": "stdout",
     "output_type": "stream",
     "text": [
      "PAKISTAN1\n",
      "PAKISTAN2\n",
      "PAKISTAN3\n",
      "PAKISTAN4\n",
      "PAKISTAN5\n",
      "PAKISTAN6\n",
      "PAKISTAN7\n",
      "PAKISTAN8\n",
      "PAKISTAN9\n",
      "PAKISTAN10\n"
     ]
    }
   ],
   "source": [
    "for i in range(1,11):\n",
    "    print(\"PAKISTAN\"+ str(i))"
   ]
  },
  {
   "cell_type": "code",
   "execution_count": 77,
   "metadata": {},
   "outputs": [
    {
     "name": "stdout",
     "output_type": "stream",
     "text": [
      "2 x 1 = 2\n",
      "2 x 2 = 4\n",
      "2 x 3 = 6\n",
      "2 x 4 = 8\n",
      "2 x 5 = 10\n",
      "2 x 6 = 12\n",
      "2 x 7 = 14\n",
      "2 x 8 = 16\n",
      "2 x 9 = 18\n",
      "2 x 10 = 20\n"
     ]
    }
   ],
   "source": [
    "for i in range(1,11):\n",
    "    print(\"2 x\", i, \"=\",2*i)"
   ]
  },
  {
   "cell_type": "code",
   "execution_count": 78,
   "metadata": {},
   "outputs": [
    {
     "name": "stdout",
     "output_type": "stream",
     "text": [
      "2 x 1 = 2\n",
      "2 x 2 = 4\n",
      "2 x 3 = 6\n",
      "2 x 4 = 8\n",
      "2 x 5 = 10\n",
      "2 x 6 = 12\n",
      "2 x 7 = 14\n",
      "2 x 8 = 16\n",
      "2 x 9 = 18\n",
      "2 x 10 = 20\n"
     ]
    }
   ],
   "source": [
    "for n in range(1,11):\n",
    "    print(2,\"x\",n,\"=\",n*2)"
   ]
  },
  {
   "cell_type": "code",
   "execution_count": 88,
   "metadata": {},
   "outputs": [
    {
     "name": "stdout",
     "output_type": "stream",
     "text": [
      "Enter Number5\n",
      "1 x 1 = 1\n",
      "1 x 2 = 2\n",
      "1 x 3 = 3\n",
      "1 x 4 = 4\n",
      "1 x 5 = 5\n",
      "1 x 6 = 6\n",
      "1 x 7 = 7\n",
      "1 x 8 = 8\n",
      "1 x 9 = 9\n",
      "1 x 10 = 10\n",
      "2 x 1 = 2\n",
      "2 x 2 = 4\n",
      "2 x 3 = 6\n",
      "2 x 4 = 8\n",
      "2 x 5 = 10\n",
      "2 x 6 = 12\n",
      "2 x 7 = 14\n",
      "2 x 8 = 16\n",
      "2 x 9 = 18\n",
      "2 x 10 = 20\n",
      "3 x 1 = 3\n",
      "3 x 2 = 6\n",
      "3 x 3 = 9\n",
      "3 x 4 = 12\n",
      "3 x 5 = 15\n",
      "3 x 6 = 18\n",
      "3 x 7 = 21\n",
      "3 x 8 = 24\n",
      "3 x 9 = 27\n",
      "3 x 10 = 30\n",
      "4 x 1 = 4\n",
      "4 x 2 = 8\n",
      "4 x 3 = 12\n",
      "4 x 4 = 16\n",
      "4 x 5 = 20\n",
      "4 x 6 = 24\n",
      "4 x 7 = 28\n",
      "4 x 8 = 32\n",
      "4 x 9 = 36\n",
      "4 x 10 = 40\n",
      "5 x 1 = 5\n",
      "5 x 2 = 10\n",
      "5 x 3 = 15\n",
      "5 x 4 = 20\n",
      "5 x 5 = 25\n",
      "5 x 6 = 30\n",
      "5 x 7 = 35\n",
      "5 x 8 = 40\n",
      "5 x 9 = 45\n",
      "5 x 10 = 50\n"
     ]
    }
   ],
   "source": [
    "user_input = int(input(\"Enter Number\"))\n",
    "\n",
    "for t in range(1, user_input + 1):\n",
    "    for n in range(1,11):\n",
    "        print(f'{t} x {n} = {t*n}')"
   ]
  },
  {
   "cell_type": "code",
   "execution_count": 93,
   "metadata": {},
   "outputs": [
    {
     "name": "stdout",
     "output_type": "stream",
     "text": [
      "Enter Number = 5\n",
      "1x1=1\t2x1=2\t3x1=3\t4x1=4\t5x1=5\t\n",
      "1x2=2\t2x2=4\t3x2=6\t4x2=8\t5x2=10\t\n",
      "1x3=3\t2x3=6\t3x3=9\t4x3=12\t5x3=15\t\n",
      "1x4=4\t2x4=8\t3x4=12\t4x4=16\t5x4=20\t\n",
      "1x5=5\t2x5=10\t3x5=15\t4x5=20\t5x5=25\t\n",
      "1x6=6\t2x6=12\t3x6=18\t4x6=24\t5x6=30\t\n",
      "1x7=7\t2x7=14\t3x7=21\t4x7=28\t5x7=35\t\n",
      "1x8=8\t2x8=16\t3x8=24\t4x8=32\t5x8=40\t\n",
      "1x9=9\t2x9=18\t3x9=27\t4x9=36\t5x9=45\t\n",
      "1x10=10\t2x10=20\t3x10=30\t4x10=40\t5x10=50\t\n"
     ]
    }
   ],
   "source": [
    "user = int(input(\"Enter Number = \"))\n",
    "\n",
    "for r in range(1,11):\n",
    "    # r = 1\n",
    "    for t in range(1, user+1):\n",
    "        # t = 1 or yeh sari iteration 1 to 10 tak honay k bad phir r wali loop pe jay gi\n",
    "        print(f'{t}x{r}={r*t}', end='\\t')\n",
    "    print()"
   ]
  },
  {
   "cell_type": "code",
   "execution_count": 99,
   "metadata": {},
   "outputs": [
    {
     "name": "stdout",
     "output_type": "stream",
     "text": [
      "Enter Number = 8\n",
      "1x1=1\t2x1=2\t3x1=3\t4x1=4\t5x1=5\t6x1=6\t7x1=7\t8x1=8\t\n",
      "1x2=2\t2x2=4\t3x2=6\t4x2=8\t5x2=10\t6x2=12\t7x2=14\t8x2=16\t\n",
      "1x3=3\t2x3=6\t3x3=9\t4x3=12\t5x3=15\t6x3=18\t7x3=21\t8x3=24\t\n",
      "1x4=4\t2x4=8\t3x4=12\t4x4=16\t5x4=20\t6x4=24\t7x4=28\t8x4=32\t\n",
      "1x5=5\t2x5=10\t3x5=15\t4x5=20\t5x5=25\t6x5=30\t7x5=35\t8x5=40\t\n",
      "1x6=6\t2x6=12\t3x6=18\t4x6=24\t5x6=30\t6x6=36\t7x6=42\t8x6=48\t\n",
      "1x7=7\t2x7=14\t3x7=21\t4x7=28\t5x7=35\t6x7=42\t7x7=49\t8x7=56\t\n",
      "1x8=8\t2x8=16\t3x8=24\t4x8=32\t5x8=40\t6x8=48\t7x8=56\t8x8=64\t\n",
      "1x9=9\t2x9=18\t3x9=27\t4x9=36\t5x9=45\t6x9=54\t7x9=63\t8x9=72\t\n",
      "1x10=10\t2x10=20\t3x10=30\t4x10=40\t5x10=50\t6x10=60\t7x10=70\t8x10=80\t\n",
      "1x11=11\t2x11=22\t3x11=33\t4x11=44\t5x11=55\t6x11=66\t7x11=77\t8x11=88\t\n",
      "1x12=12\t2x12=24\t3x12=36\t4x12=48\t5x12=60\t6x12=72\t7x12=84\t8x12=96\t\n",
      "1x13=13\t2x13=26\t3x13=39\t4x13=52\t5x13=65\t6x13=78\t7x13=91\t8x13=104\t\n",
      "1x14=14\t2x14=28\t3x14=42\t4x14=56\t5x14=70\t6x14=84\t7x14=98\t8x14=112\t\n",
      "1x15=15\t2x15=30\t3x15=45\t4x15=60\t5x15=75\t6x15=90\t7x15=105\t8x15=120\t\n",
      "1x16=16\t2x16=32\t3x16=48\t4x16=64\t5x16=80\t6x16=96\t7x16=112\t8x16=128\t\n",
      "1x17=17\t2x17=34\t3x17=51\t4x17=68\t5x17=85\t6x17=102\t7x17=119\t8x17=136\t\n",
      "1x18=18\t2x18=36\t3x18=54\t4x18=72\t5x18=90\t6x18=108\t7x18=126\t8x18=144\t\n",
      "1x19=19\t2x19=38\t3x19=57\t4x19=76\t5x19=95\t6x19=114\t7x19=133\t8x19=152\t\n",
      "1x20=20\t2x20=40\t3x20=60\t4x20=80\t5x20=100\t6x20=120\t7x20=140\t8x20=160\t\n"
     ]
    }
   ],
   "source": [
    "user = int(input(\"Enter Number = \"))\n",
    "\n",
    "for r in range(1,21):\n",
    "    # r = 1\n",
    "    for t in range(1, user+1):\n",
    "        # t = 1 or yeh sari iteration 1 to 10 tak honay k bad phir r wali loop pe jay gi\n",
    "        print(f'{t}x{r}={r*t}', end='\\t')\n",
    "    print()"
   ]
  },
  {
   "cell_type": "code",
   "execution_count": 96,
   "metadata": {},
   "outputs": [
    {
     "name": "stdout",
     "output_type": "stream",
     "text": [
      "Enter Starting Range = 5\n",
      "Enter End Range = 9\n",
      "5x1=5\t6x1=6\t7x1=7\t8x1=8\t9x1=9\t\n",
      "5x2=10\t6x2=12\t7x2=14\t8x2=16\t9x2=18\t\n",
      "5x3=15\t6x3=18\t7x3=21\t8x3=24\t9x3=27\t\n",
      "5x4=20\t6x4=24\t7x4=28\t8x4=32\t9x4=36\t\n",
      "5x5=25\t6x5=30\t7x5=35\t8x5=40\t9x5=45\t\n",
      "5x6=30\t6x6=36\t7x6=42\t8x6=48\t9x6=54\t\n",
      "5x7=35\t6x7=42\t7x7=49\t8x7=56\t9x7=63\t\n",
      "5x8=40\t6x8=48\t7x8=56\t8x8=64\t9x8=72\t\n",
      "5x9=45\t6x9=54\t7x9=63\t8x9=72\t9x9=81\t\n",
      "5x10=50\t6x10=60\t7x10=70\t8x10=80\t9x10=90\t\n"
     ]
    }
   ],
   "source": [
    "user1 = int(input(\"Enter Starting Range = \"))\n",
    "user = int(input(\"Enter End Range = \"))\n",
    "\n",
    "for r in range(1,11):\n",
    "    # r = 1\n",
    "    for t in range(user1, user+1):\n",
    "        # t = 1 or yeh sari iteration 1 to 10 tak honay k bad phir r wali loop pe jay gi\n",
    "        print(f'{t}x{r}={r*t}', end='\\t')\n",
    "    print()"
   ]
  },
  {
   "cell_type": "code",
   "execution_count": null,
   "metadata": {},
   "outputs": [],
   "source": []
  }
 ],
 "metadata": {
  "kernelspec": {
   "display_name": "Python 3",
   "language": "python",
   "name": "python3"
  },
  "language_info": {
   "codemirror_mode": {
    "name": "ipython",
    "version": 3
   },
   "file_extension": ".py",
   "mimetype": "text/x-python",
   "name": "python",
   "nbconvert_exporter": "python",
   "pygments_lexer": "ipython3",
   "version": "3.7.4"
  }
 },
 "nbformat": 4,
 "nbformat_minor": 2
}
