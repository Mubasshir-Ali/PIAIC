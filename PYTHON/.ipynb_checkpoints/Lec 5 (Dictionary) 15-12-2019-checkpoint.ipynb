{
 "cells": [
  {
   "cell_type": "code",
   "execution_count": 1,
   "metadata": {},
   "outputs": [
    {
     "data": {
      "text/plain": [
       "[2, 'Rizwan', 'A.I']"
      ]
     },
     "execution_count": 1,
     "metadata": {},
     "output_type": "execute_result"
    }
   ],
   "source": [
    "#     0     1      2\n",
    "l1 = [2,\"Rizwan\",\"A.I\"]\n",
    "#     -3    -2     -1\n",
    "#List[element1, element2, element3,........]\n",
    "#List(index)\n",
    "l1"
   ]
  },
  {
   "cell_type": "code",
   "execution_count": 2,
   "metadata": {},
   "outputs": [],
   "source": [
    "# item = key:value\n",
    "\n",
    "#{key1: value1,\n",
    "# key2: value2,\n",
    "# key3: value3,....\n",
    "#}"
   ]
  },
  {
   "cell_type": "code",
   "execution_count": 5,
   "metadata": {},
   "outputs": [
    {
     "data": {
      "text/plain": [
       "{'id': 2, 'name': 'Rizwan', 'course': 'A.I'}"
      ]
     },
     "execution_count": 5,
     "metadata": {},
     "output_type": "execute_result"
    }
   ],
   "source": [
    "d1 = {\"id\":2,\n",
    "   \"name\":\"Rizwan\",\n",
    "   \"course\": \"A.I\"}\n",
    "d1"
   ]
  },
  {
   "cell_type": "code",
   "execution_count": 6,
   "metadata": {},
   "outputs": [
    {
     "data": {
      "text/plain": [
       "{'id': 25, 'name': 'Rizwan', 'course': 'A.I'}"
      ]
     },
     "execution_count": 6,
     "metadata": {},
     "output_type": "execute_result"
    }
   ],
   "source": [
    "d1 = {\"id\":2,\n",
    "   \"name\":\"Rizwan\",\n",
    "      \"id\":25,\n",
    "   \"course\": \"A.I\"}\n",
    "d1"
   ]
  },
  {
   "cell_type": "code",
   "execution_count": null,
   "metadata": {},
   "outputs": [],
   "source": [
    "d1 = {} # empty dictionary\n",
    "d1[\"id\"] = 10\n",
    "d1['name'] = 'Rizwan'\n",
    "d1['course'] = \"101\"\n",
    "\n",
    "d1"
   ]
  }
 ],
 "metadata": {
  "kernelspec": {
   "display_name": "Python 3",
   "language": "python",
   "name": "python3"
  },
  "language_info": {
   "codemirror_mode": {
    "name": "ipython",
    "version": 3
   },
   "file_extension": ".py",
   "mimetype": "text/x-python",
   "name": "python",
   "nbconvert_exporter": "python",
   "pygments_lexer": "ipython3",
   "version": "3.7.4"
  }
 },
 "nbformat": 4,
 "nbformat_minor": 2
}
